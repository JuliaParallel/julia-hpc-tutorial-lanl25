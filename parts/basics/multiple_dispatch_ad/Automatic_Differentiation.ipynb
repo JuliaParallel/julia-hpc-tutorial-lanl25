{
 "cells": [
  {
   "cell_type": "code",
   "execution_count": 1,
   "id": "4e701bc4-b36c-4508-9f69-0e7dd607ba82",
   "metadata": {
    "editable": true,
    "slideshow": {
     "slide_type": "skip"
    },
    "tags": []
   },
   "outputs": [],
   "source": [
    "using Plots"
   ]
  },
  {
   "cell_type": "markdown",
   "id": "cf8eeb2e-79f5-42a2-a5ab-a9559d263e12",
   "metadata": {
    "editable": true,
    "slideshow": {
     "slide_type": "slide"
    },
    "tags": []
   },
   "source": [
    "# Julia's Data-Type Magic: Autodifferentiation in 4 lines\n",
    "([Back to Overview](../index.html#/0/5))"
   ]
  },
  {
   "cell_type": "markdown",
   "id": "17ec4350-03b5-44fd-a28f-e546ac9135d7",
   "metadata": {
    "editable": true,
    "slideshow": {
     "slide_type": "subslide"
    },
    "tags": []
   },
   "source": [
    "Take as an example the babylonian algorithm to calculate $\\sqrt{x}$\n",
    "> Repeat $ t \\leftarrow  \\frac{t+\\frac{x}{t}}{2} $ until $t$ converges to $\\sqrt{x}$.\n",
    "\n",
    "For illustration we will use 10 iterations"
   ]
  },
  {
   "cell_type": "code",
   "execution_count": 2,
   "id": "c00af0d6-7b97-4d80-94ba-eb5f4723f3f8",
   "metadata": {
    "editable": true,
    "slideshow": {
     "slide_type": "subslide"
    },
    "tags": []
   },
   "outputs": [
    {
     "data": {
      "text/plain": [
       "babylonian (generic function with 1 method)"
      ]
     },
     "execution_count": 2,
     "metadata": {},
     "output_type": "execute_result"
    }
   ],
   "source": [
    "function babylonian(x; N::Integer = 10) \n",
    "    t = (1+x)/2\n",
    "    for i = 2:N\n",
    "        t = (t + x/t)/2 \n",
    "    end    \n",
    "    t\n",
    "end"
   ]
  },
  {
   "cell_type": "markdown",
   "id": "b448a170-6fc3-497b-bee7-9a8e6375e88f",
   "metadata": {
    "editable": true,
    "slideshow": {
     "slide_type": "fragment"
    },
    "tags": []
   },
   "source": [
    "Check: `sqrt(100) == 10`"
   ]
  },
  {
   "cell_type": "code",
   "execution_count": 3,
   "id": "7fb83cf7-0a4f-4324-93ae-664a0c26227f",
   "metadata": {
    "editable": true,
    "slideshow": {
     "slide_type": "fragment"
    },
    "tags": []
   },
   "outputs": [
    {
     "data": {
      "text/plain": [
       "10.0"
      ]
     },
     "execution_count": 3,
     "metadata": {},
     "output_type": "execute_result"
    }
   ],
   "source": [
    "babylonian(100)"
   ]
  },
  {
   "cell_type": "code",
   "execution_count": 4,
   "id": "7ef63623-0eb7-40ef-9e36-b7c4a27dd80c",
   "metadata": {
    "editable": true,
    "slideshow": {
     "slide_type": "fragment"
    },
    "tags": []
   },
   "outputs": [
    {
     "data": {
      "text/plain": [
       "(1.414213562373095, 1.4142135623730951)"
      ]
     },
     "execution_count": 4,
     "metadata": {},
     "output_type": "execute_result"
    }
   ],
   "source": [
    "x=2; babylonian(x), √x  # Type \\sqrt+<tab> to get the symbol"
   ]
  },
  {
   "cell_type": "markdown",
   "id": "93bb7011-df11-42f6-aabc-df0b1c3facfb",
   "metadata": {
    "editable": true,
    "slideshow": {
     "slide_type": "subslide"
    },
    "tags": []
   },
   "source": [
    "Let's look at the convergence behaviour"
   ]
  },
  {
   "cell_type": "code",
   "execution_count": 5,
   "id": "e2bcd1e9-649c-4069-b12a-12dee3cfbc71",
   "metadata": {
    "editable": true,
    "slideshow": {
     "slide_type": "fragment"
    },
    "tags": []
   },
   "outputs": [],
   "source": [
    "x = range(0.01, 10, length=100)\n",
    "y = [babylonian(x, N = N) for x = x, N = 1:5]\n",
    "plot(x, y[:, 1], label=\"N=1\")\n",
    "for i=2:5\n",
    "    plot!(x, y[:, i], label=\"N=$(i)\")\n",
    "end;"
   ]
  },
  {
   "cell_type": "code",
   "execution_count": 6,
   "id": "8379af42-720b-4657-a9d7-297667446112",
   "metadata": {
    "editable": true,
    "slideshow": {
     "slide_type": "subslide"
    },
    "tags": []
   },
   "outputs": [
    {
     "data": {
      "image/png": "[encoded data removed]",
      "image/svg+xml": [
       "<?xml version=\"1.0\" encoding=\"utf-8\"?>\n",
       "<svg xmlns=\"http://www.w3.org/2000/svg\" xmlns:xlink=\"http://www.w3.org/1999/xlink\" width=\"600\" height=\"400\" viewBox=\"0 0 2400 1600\">\n",
       "<defs>\n",
       "  <clipPath id=\"clip200\">\n",
       "    <rect x=\"0\" y=\"0\" width=\"2400\" height=\"1600\"/>\n",
       "  </clipPath>\n",
       "</defs>\n",
       "<path clip-path=\"url(#clip200)\" d=\"M0 1600 L2400 1600 L2400 8.88178e-14 L0 8.88178e-14  Z\" fill=\"#ffffff\" fill-rule=\"evenodd\" fill-opacity=\"1\"/>\n",
       "<defs>\n",
       "  <clipPath id=\"clip201\">\n",
       "    <rect x=\"480\" y=\"0\" width=\"1681\" height=\"1600\"/>\n",
       "  </clipPath>\n",
       "</defs>\n",
       "<path clip-path=\"url(#clip200)\" d=\"M112.177 1486.45 L2352.76 1486.45 L2352.76 47.2441 L112.177 47.2441  Z\" fill=\"#ffffff\" fill-rule=\"evenodd\" fill-opacity=\"1\"/>\n",
       "<defs>\n",
       "  <clipPath id=\"clip202\">\n",
       "    <rect x=\"112\" y=\"47\" width=\"2242\" height=\"1440\"/>\n",
       "  </clipPath>\n",
       "</defs>\n",
       "<polyline clip-path=\"url(#clip202)\" style=\"stroke:#000000; stroke-linecap:round; stroke-linejoin:round; stroke-width:2; stroke-opacity:0.1; fill:none\" points=\"173.474,1486.45 173.474,47.2441 \"/>\n",
       "<polyline clip-path=\"url(#clip202)\" style=\"stroke:#000000; stroke-linecap:round; stroke-linejoin:round; stroke-width:2; stroke-opacity:0.1; fill:none\" points=\"702.441,1486.45 702.441,47.2441 \"/>\n",
       "<polyline clip-path=\"url(#clip202)\" style=\"stroke:#000000; stroke-linecap:round; stroke-linejoin:round; stroke-width:2; stroke-opacity:0.1; fill:none\" points=\"1231.41,1486.45 1231.41,47.2441 \"/>\n",
       "<polyline clip-path=\"url(#clip202)\" style=\"stroke:#000000; stroke-linecap:round; stroke-linejoin:round; stroke-width:2; stroke-opacity:0.1; fill:none\" points=\"1760.38,1486.45 1760.38,47.2441 \"/>\n",
       "<polyline clip-path=\"url(#clip202)\" style=\"stroke:#000000; stroke-linecap:round; stroke-linejoin:round; stroke-width:2; stroke-opacity:0.1; fill:none\" points=\"2289.34,1486.45 2289.34,47.2441 \"/>\n",
       "<polyline clip-path=\"url(#clip202)\" style=\"stroke:#000000; stroke-linecap:round; stroke-linejoin:round; stroke-width:2; stroke-opacity:0.1; fill:none\" points=\"112.177,1470.94 2352.76,1470.94 \"/>\n",
       "<polyline clip-path=\"url(#clip202)\" style=\"stroke:#000000; stroke-linecap:round; stroke-linejoin:round; stroke-width:2; stroke-opacity:0.1; fill:none\" points=\"112.177,1219.49 2352.76,1219.49 \"/>\n",
       "<polyline clip-path=\"url(#clip202)\" style=\"stroke:#000000; stroke-linecap:round; stroke-linejoin:round; stroke-width:2; stroke-opacity:0.1; fill:none\" points=\"112.177,968.046 2352.76,968.046 \"/>\n",
       "<polyline clip-path=\"url(#clip202)\" style=\"stroke:#000000; stroke-linecap:round; stroke-linejoin:round; stroke-width:2; stroke-opacity:0.1; fill:none\" points=\"112.177,716.597 2352.76,716.597 \"/>\n",
       "<polyline clip-path=\"url(#clip202)\" style=\"stroke:#000000; stroke-linecap:round; stroke-linejoin:round; stroke-width:2; stroke-opacity:0.1; fill:none\" points=\"112.177,465.149 2352.76,465.149 \"/>\n",
       "<polyline clip-path=\"url(#clip202)\" style=\"stroke:#000000; stroke-linecap:round; stroke-linejoin:round; stroke-width:2; stroke-opacity:0.1; fill:none\" points=\"112.177,213.7 2352.76,213.7 \"/>\n",
       "<polyline clip-path=\"url(#clip200)\" style=\"stroke:#000000; stroke-linecap:round; stroke-linejoin:round; stroke-width:4; stroke-opacity:1; fill:none\" points=\"112.177,1486.45 2352.76,1486.45 \"/>\n",
       "<polyline clip-path=\"url(#clip200)\" style=\"stroke:#000000; stroke-linecap:round; stroke-linejoin:round; stroke-width:4; stroke-opacity:1; fill:none\" points=\"173.474,1486.45 173.474,1467.55 \"/>\n",
       "<polyline clip-path=\"url(#clip200)\" style=\"stroke:#000000; stroke-linecap:round; stroke-linejoin:round; stroke-width:4; stroke-opacity:1; fill:none\" points=\"702.441,1486.45 702.441,1467.55 \"/>\n",
       "<polyline clip-path=\"url(#clip200)\" style=\"stroke:#000000; stroke-linecap:round; stroke-linejoin:round; stroke-width:4; stroke-opacity:1; fill:none\" points=\"1231.41,1486.45 1231.41,1467.55 \"/>\n",
       "<polyline clip-path=\"url(#clip200)\" style=\"stroke:#000000; stroke-linecap:round; stroke-linejoin:round; stroke-width:4; stroke-opacity:1; fill:none\" points=\"1760.38,1486.45 1760.38,1467.55 \"/>\n",
       "<polyline clip-path=\"url(#clip200)\" style=\"stroke:#000000; stroke-linecap:round; stroke-linejoin:round; stroke-width:4; stroke-opacity:1; fill:none\" points=\"2289.34,1486.45 2289.34,1467.55 \"/>\n",
       "<path clip-path=\"url(#clip200)\" d=\"M150.858 1517.37 Q147.247 1517.37 145.419 1520.93 Q143.613 1524.47 143.613 1531.6 Q143.613 1538.71 145.419 1542.27 Q147.247 1545.82 150.858 1545.82 Q154.493 1545.82 156.298 1542.27 Q158.127 1538.71 158.127 1531.6 Q158.127 1524.47 156.298 1520.93 Q154.493 1517.37 150.858 1517.37 M150.858 1513.66 Q156.668 1513.66 159.724 1518.27 Q162.803 1522.85 162.803 1531.6 Q162.803 1540.33 159.724 1544.94 Q156.668 1549.52 150.858 1549.52 Q145.048 1549.52 141.969 1544.94 Q138.914 1540.33 138.914 1531.6 Q138.914 1522.85 141.969 1518.27 Q145.048 1513.66 150.858 1513.66 Z\" fill=\"#000000\" fill-rule=\"nonzero\" fill-opacity=\"1\" /><path clip-path=\"url(#clip200)\" d=\"M171.02 1542.97 L175.904 1542.97 L175.904 1548.85 L171.02 1548.85 L171.02 1542.97 Z\" fill=\"#000000\" fill-rule=\"nonzero\" fill-opacity=\"1\" /><path clip-path=\"url(#clip200)\" d=\"M196.09 1517.37 Q192.478 1517.37 190.65 1520.93 Q188.844 1524.47 188.844 1531.6 Q188.844 1538.71 190.65 1542.27 Q192.478 1545.82 196.09 1545.82 Q199.724 1545.82 201.529 1542.27 Q203.358 1538.71 203.358 1531.6 Q203.358 1524.47 201.529 1520.93 Q199.724 1517.37 196.09 1517.37 M196.09 1513.66 Q201.9 1513.66 204.955 1518.27 Q208.034 1522.85 208.034 1531.6 Q208.034 1540.33 204.955 1544.94 Q201.9 1549.52 196.09 1549.52 Q190.279 1549.52 187.201 1544.94 Q184.145 1540.33 184.145 1531.6 Q184.145 1522.85 187.201 1518.27 Q190.279 1513.66 196.09 1513.66 Z\" fill=\"#000000\" fill-rule=\"nonzero\" fill-opacity=\"1\" /><path clip-path=\"url(#clip200)\" d=\"M674.178 1544.91 L690.497 1544.91 L690.497 1548.85 L668.553 1548.85 L668.553 1544.91 Q671.215 1542.16 675.798 1537.53 Q680.404 1532.88 681.585 1531.53 Q683.83 1529.01 684.71 1527.27 Q685.613 1525.51 685.613 1523.82 Q685.613 1521.07 683.668 1519.33 Q681.747 1517.6 678.645 1517.6 Q676.446 1517.6 673.992 1518.36 Q671.562 1519.13 668.784 1520.68 L668.784 1515.95 Q671.608 1514.82 674.062 1514.24 Q676.515 1513.66 678.552 1513.66 Q683.923 1513.66 687.117 1516.35 Q690.312 1519.03 690.312 1523.52 Q690.312 1525.65 689.502 1527.57 Q688.714 1529.47 686.608 1532.07 Q686.029 1532.74 682.927 1535.95 Q679.826 1539.15 674.178 1544.91 Z\" fill=\"#000000\" fill-rule=\"nonzero\" fill-opacity=\"1\" /><path clip-path=\"url(#clip200)\" d=\"M700.312 1542.97 L705.196 1542.97 L705.196 1548.85 L700.312 1548.85 L700.312 1542.97 Z\" fill=\"#000000\" fill-rule=\"nonzero\" fill-opacity=\"1\" /><path clip-path=\"url(#clip200)\" d=\"M715.427 1514.29 L733.784 1514.29 L733.784 1518.22 L719.71 1518.22 L719.71 1526.7 Q720.728 1526.35 721.747 1526.19 Q722.765 1526 723.784 1526 Q729.571 1526 732.95 1529.17 Q736.33 1532.34 736.33 1537.76 Q736.33 1543.34 732.858 1546.44 Q729.386 1549.52 723.066 1549.52 Q720.89 1549.52 718.622 1549.15 Q716.376 1548.78 713.969 1548.04 L713.969 1543.34 Q716.052 1544.47 718.275 1545.03 Q720.497 1545.58 722.974 1545.58 Q726.978 1545.58 729.316 1543.48 Q731.654 1541.37 731.654 1537.76 Q731.654 1534.15 729.316 1532.04 Q726.978 1529.94 722.974 1529.94 Q721.099 1529.94 719.224 1530.35 Q717.372 1530.77 715.427 1531.65 L715.427 1514.29 Z\" fill=\"#000000\" fill-rule=\"nonzero\" fill-opacity=\"1\" /><path clip-path=\"url(#clip200)\" d=\"M1198.57 1514.29 L1216.93 1514.29 L1216.93 1518.22 L1202.86 1518.22 L1202.86 1526.7 Q1203.87 1526.35 1204.89 1526.19 Q1205.91 1526 1206.93 1526 Q1212.72 1526 1216.1 1529.17 Q1219.48 1532.34 1219.48 1537.76 Q1219.48 1543.34 1216 1546.44 Q1212.53 1549.52 1206.21 1549.52 Q1204.04 1549.52 1201.77 1549.15 Q1199.52 1548.78 1197.11 1548.04 L1197.11 1543.34 Q1199.2 1544.47 1201.42 1545.03 Q1203.64 1545.58 1206.12 1545.58 Q1210.12 1545.58 1212.46 1543.48 Q1214.8 1541.37 1214.8 1537.76 Q1214.8 1534.15 1212.46 1532.04 Q1210.12 1529.94 1206.12 1529.94 Q1204.24 1529.94 1202.37 1530.35 Q1200.52 1530.77 1198.57 1531.65 L1198.57 1514.29 Z\" fill=\"#000000\" fill-rule=\"nonzero\" fill-opacity=\"1\" /><path clip-path=\"url(#clip200)\" d=\"M1228.69 1542.97 L1233.57 1542.97 L1233.57 1548.85 L1228.69 1548.85 L1228.69 1542.97 Z\" fill=\"#000000\" fill-rule=\"nonzero\" fill-opacity=\"1\" /><path clip-path=\"url(#clip200)\" d=\"M1253.76 1517.37 Q1250.15 1517.37 1248.32 1520.93 Q1246.51 1524.47 1246.51 1531.6 Q1246.51 1538.71 1248.32 1542.27 Q1250.15 1545.82 1253.76 1545.82 Q1257.39 1545.82 1259.2 1542.27 Q1261.03 1538.71 1261.03 1531.6 Q1261.03 1524.47 1259.2 1520.93 Q1257.39 1517.37 1253.76 1517.37 M1253.76 1513.66 Q1259.57 1513.66 1262.62 1518.27 Q1265.7 1522.85 1265.7 1531.6 Q1265.7 1540.33 1262.62 1544.94 Q1259.57 1549.52 1253.76 1549.52 Q1247.95 1549.52 1244.87 1544.94 Q1241.81 1540.33 1241.81 1531.6 Q1241.81 1522.85 1244.87 1518.27 Q1247.95 1513.66 1253.76 1513.66 Z\" fill=\"#000000\" fill-rule=\"nonzero\" fill-opacity=\"1\" /><path clip-path=\"url(#clip200)\" d=\"M1726.7 1514.29 L1748.92 1514.29 L1748.92 1516.28 L1736.37 1548.85 L1731.49 1548.85 L1743.29 1518.22 L1726.7 1518.22 L1726.7 1514.29 Z\" fill=\"#000000\" fill-rule=\"nonzero\" fill-opacity=\"1\" /><path clip-path=\"url(#clip200)\" d=\"M1758.04 1542.97 L1762.92 1542.97 L1762.92 1548.85 L1758.04 1548.85 L1758.04 1542.97 Z\" fill=\"#000000\" fill-rule=\"nonzero\" fill-opacity=\"1\" /><path clip-path=\"url(#clip200)\" d=\"M1773.15 1514.29 L1791.51 1514.29 L1791.51 1518.22 L1777.44 1518.22 L1777.44 1526.7 Q1778.45 1526.35 1779.47 1526.19 Q1780.49 1526 1781.51 1526 Q1787.3 1526 1790.68 1529.17 Q1794.06 1532.34 1794.06 1537.76 Q1794.06 1543.34 1790.58 1546.44 Q1787.11 1549.52 1780.79 1549.52 Q1778.62 1549.52 1776.35 1549.15 Q1774.1 1548.78 1771.7 1548.04 L1771.7 1543.34 Q1773.78 1544.47 1776 1545.03 Q1778.22 1545.58 1780.7 1545.58 Q1784.7 1545.58 1787.04 1543.48 Q1789.38 1541.37 1789.38 1537.76 Q1789.38 1534.15 1787.04 1532.04 Q1784.7 1529.94 1780.7 1529.94 Q1778.82 1529.94 1776.95 1530.35 Q1775.1 1530.77 1773.15 1531.65 L1773.15 1514.29 Z\" fill=\"#000000\" fill-rule=\"nonzero\" fill-opacity=\"1\" /><path clip-path=\"url(#clip200)\" d=\"M2241.42 1544.91 L2249.05 1544.91 L2249.05 1518.55 L2240.74 1520.21 L2240.74 1515.95 L2249.01 1514.29 L2253.68 1514.29 L2253.68 1544.91 L2261.32 1544.91 L2261.32 1548.85 L2241.42 1548.85 L2241.42 1544.91 Z\" fill=\"#000000\" fill-rule=\"nonzero\" fill-opacity=\"1\" /><path clip-path=\"url(#clip200)\" d=\"M2280.77 1517.37 Q2277.16 1517.37 2275.33 1520.93 Q2273.52 1524.47 2273.52 1531.6 Q2273.52 1538.71 2275.33 1542.27 Q2277.16 1545.82 2280.77 1545.82 Q2284.4 1545.82 2286.21 1542.27 Q2288.04 1538.71 2288.04 1531.6 Q2288.04 1524.47 2286.21 1520.93 Q2284.4 1517.37 2280.77 1517.37 M2280.77 1513.66 Q2286.58 1513.66 2289.63 1518.27 Q2292.71 1522.85 2292.71 1531.6 Q2292.71 1540.33 2289.63 1544.94 Q2286.58 1549.52 2280.77 1549.52 Q2274.96 1549.52 2271.88 1544.94 Q2268.82 1540.33 2268.82 1531.6 Q2268.82 1522.85 2271.88 1518.27 Q2274.96 1513.66 2280.77 1513.66 Z\" fill=\"#000000\" fill-rule=\"nonzero\" fill-opacity=\"1\" /><path clip-path=\"url(#clip200)\" d=\"M2300.93 1542.97 L2305.81 1542.97 L2305.81 1548.85 L2300.93 1548.85 L2300.93 1542.97 Z\" fill=\"#000000\" fill-rule=\"nonzero\" fill-opacity=\"1\" /><path clip-path=\"url(#clip200)\" d=\"M2326 1517.37 Q2322.39 1517.37 2320.56 1520.93 Q2318.75 1524.47 2318.75 1531.6 Q2318.75 1538.71 2320.56 1542.27 Q2322.39 1545.82 2326 1545.82 Q2329.63 1545.82 2331.44 1542.27 Q2333.27 1538.71 2333.27 1531.6 Q2333.27 1524.47 2331.44 1520.93 Q2329.63 1517.37 2326 1517.37 M2326 1513.66 Q2331.81 1513.66 2334.86 1518.27 Q2337.94 1522.85 2337.94 1531.6 Q2337.94 1540.33 2334.86 1544.94 Q2331.81 1549.52 2326 1549.52 Q2320.19 1549.52 2317.11 1544.94 Q2314.05 1540.33 2314.05 1531.6 Q2314.05 1522.85 2317.11 1518.27 Q2320.19 1513.66 2326 1513.66 Z\" fill=\"#000000\" fill-rule=\"nonzero\" fill-opacity=\"1\" /><polyline clip-path=\"url(#clip200)\" style=\"stroke:#000000; stroke-linecap:round; stroke-linejoin:round; stroke-width:4; stroke-opacity:1; fill:none\" points=\"112.177,1486.45 112.177,47.2441 \"/>\n",
       "<polyline clip-path=\"url(#clip200)\" style=\"stroke:#000000; stroke-linecap:round; stroke-linejoin:round; stroke-width:4; stroke-opacity:1; fill:none\" points=\"112.177,1470.94 131.075,1470.94 \"/>\n",
       "<polyline clip-path=\"url(#clip200)\" style=\"stroke:#000000; stroke-linecap:round; stroke-linejoin:round; stroke-width:4; stroke-opacity:1; fill:none\" points=\"112.177,1219.49 131.075,1219.49 \"/>\n",
       "<polyline clip-path=\"url(#clip200)\" style=\"stroke:#000000; stroke-linecap:round; stroke-linejoin:round; stroke-width:4; stroke-opacity:1; fill:none\" points=\"112.177,968.046 131.075,968.046 \"/>\n",
       "<polyline clip-path=\"url(#clip200)\" style=\"stroke:#000000; stroke-linecap:round; stroke-linejoin:round; stroke-width:4; stroke-opacity:1; fill:none\" points=\"112.177,716.597 131.075,716.597 \"/>\n",
       "<polyline clip-path=\"url(#clip200)\" style=\"stroke:#000000; stroke-linecap:round; stroke-linejoin:round; stroke-width:4; stroke-opacity:1; fill:none\" points=\"112.177,465.149 131.075,465.149 \"/>\n",
       "<polyline clip-path=\"url(#clip200)\" style=\"stroke:#000000; stroke-linecap:round; stroke-linejoin:round; stroke-width:4; stroke-opacity:1; fill:none\" points=\"112.177,213.7 131.075,213.7 \"/>\n",
       "<path clip-path=\"url(#clip200)\" d=\"M64.2328 1456.74 Q60.6217 1456.74 58.793 1460.31 Q56.9875 1463.85 56.9875 1470.98 Q56.9875 1478.08 58.793 1481.65 Q60.6217 1485.19 64.2328 1485.19 Q67.867 1485.19 69.6726 1481.65 Q71.5013 1478.08 71.5013 1470.98 Q71.5013 1463.85 69.6726 1460.31 Q67.867 1456.74 64.2328 1456.74 M64.2328 1453.04 Q70.0429 1453.04 73.0985 1457.64 Q76.1772 1462.23 76.1772 1470.98 Q76.1772 1479.7 73.0985 1484.31 Q70.0429 1488.89 64.2328 1488.89 Q58.4226 1488.89 55.344 1484.31 Q52.2884 1479.7 52.2884 1470.98 Q52.2884 1462.23 55.344 1457.64 Q58.4226 1453.04 64.2328 1453.04 Z\" fill=\"#000000\" fill-rule=\"nonzero\" fill-opacity=\"1\" /><path clip-path=\"url(#clip200)\" d=\"M56.2699 1232.84 L63.9087 1232.84 L63.9087 1206.47 L55.5986 1208.14 L55.5986 1203.88 L63.8624 1202.21 L68.5383 1202.21 L68.5383 1232.84 L76.1772 1232.84 L76.1772 1236.77 L56.2699 1236.77 L56.2699 1232.84 Z\" fill=\"#000000\" fill-rule=\"nonzero\" fill-opacity=\"1\" /><path clip-path=\"url(#clip200)\" d=\"M59.8578 981.39 L76.1772 981.39 L76.1772 985.326 L54.2328 985.326 L54.2328 981.39 Q56.8949 978.636 61.4782 974.006 Q66.0846 969.354 67.2652 968.011 Q69.5105 965.488 70.3902 963.752 Q71.2929 961.992 71.2929 960.303 Q71.2929 957.548 69.3485 955.812 Q67.4272 954.076 64.3254 954.076 Q62.1263 954.076 59.6726 954.84 Q57.2421 955.604 54.4643 957.155 L54.4643 952.432 Q57.2884 951.298 59.7421 950.719 Q62.1958 950.141 64.2328 950.141 Q69.6031 950.141 72.7976 952.826 Q75.992 955.511 75.992 960.002 Q75.992 962.131 75.1818 964.053 Q74.3948 965.951 72.2883 968.543 Q71.7096 969.215 68.6078 972.432 Q65.5059 975.627 59.8578 981.39 Z\" fill=\"#000000\" fill-rule=\"nonzero\" fill-opacity=\"1\" /><path clip-path=\"url(#clip200)\" d=\"M69.0476 715.243 Q72.404 715.961 74.279 718.229 Q76.1772 720.498 76.1772 723.831 Q76.1772 728.947 72.6587 731.748 Q69.1402 734.549 62.6587 734.549 Q60.4828 734.549 58.168 734.109 Q55.8764 733.692 53.4227 732.836 L53.4227 728.322 Q55.3671 729.456 57.6819 730.035 Q59.9967 730.613 62.5198 730.613 Q66.918 730.613 69.2096 728.877 Q71.5244 727.141 71.5244 723.831 Q71.5244 720.775 69.3717 719.063 Q67.242 717.326 63.4226 717.326 L59.3949 717.326 L59.3949 713.484 L63.6078 713.484 Q67.0569 713.484 68.8855 712.118 Q70.7142 710.729 70.7142 708.137 Q70.7142 705.475 68.8161 704.063 Q66.9411 702.627 63.4226 702.627 Q61.5013 702.627 59.3023 703.044 Q57.1032 703.461 54.4643 704.34 L54.4643 700.174 Q57.1264 699.433 59.4412 699.063 Q61.7791 698.692 63.8393 698.692 Q69.1633 698.692 72.2652 701.123 Q75.367 703.53 75.367 707.651 Q75.367 710.521 73.7235 712.512 Q72.08 714.479 69.0476 715.243 Z\" fill=\"#000000\" fill-rule=\"nonzero\" fill-opacity=\"1\" /><path clip-path=\"url(#clip200)\" d=\"M66.5939 451.943 L54.7884 470.392 L66.5939 470.392 L66.5939 451.943 M65.367 447.869 L71.2466 447.869 L71.2466 470.392 L76.1772 470.392 L76.1772 474.281 L71.2466 474.281 L71.2466 482.429 L66.5939 482.429 L66.5939 474.281 L50.9921 474.281 L50.9921 469.767 L65.367 447.869 Z\" fill=\"#000000\" fill-rule=\"nonzero\" fill-opacity=\"1\" /><path clip-path=\"url(#clip200)\" d=\"M55.2745 196.42 L73.6309 196.42 L73.6309 200.356 L59.5569 200.356 L59.5569 208.828 Q60.5754 208.481 61.5939 208.319 Q62.6124 208.133 63.6309 208.133 Q69.418 208.133 72.7976 211.305 Q76.1772 214.476 76.1772 219.893 Q76.1772 225.471 72.705 228.573 Q69.2328 231.652 62.9134 231.652 Q60.7374 231.652 58.4689 231.281 Q56.2236 230.911 53.8162 230.17 L53.8162 225.471 Q55.8995 226.605 58.1217 227.161 Q60.3439 227.717 62.8208 227.717 Q66.8254 227.717 69.1633 225.61 Q71.5013 223.504 71.5013 219.893 Q71.5013 216.281 69.1633 214.175 Q66.8254 212.069 62.8208 212.069 Q60.9458 212.069 59.0708 212.485 Q57.2189 212.902 55.2745 213.781 L55.2745 196.42 Z\" fill=\"#000000\" fill-rule=\"nonzero\" fill-opacity=\"1\" /><polyline clip-path=\"url(#clip202)\" style=\"stroke:#009af9; stroke-linecap:round; stroke-linejoin:round; stroke-width:4; stroke-opacity:1; fill:none\" points=\"175.59,1343.96 196.941,1331.27 218.292,1318.59 239.643,1305.9 260.994,1293.21 282.345,1280.53 303.696,1267.84 325.047,1255.15 346.398,1242.47 367.749,1229.78 389.1,1217.09 410.451,1204.41 431.802,1191.72 453.153,1179.03 474.504,1166.35 495.855,1153.66 517.207,1140.97 538.558,1128.29 559.909,1115.6 581.26,1102.91 602.611,1090.23 623.962,1077.54 645.313,1064.85 666.664,1052.17 688.015,1039.48 709.366,1026.79 730.717,1014.11 752.068,1001.42 773.419,988.733 794.77,976.046 816.121,963.36 837.472,950.673 858.823,937.986 880.174,925.299 901.525,912.613 922.876,899.926 944.227,887.239 965.578,874.553 986.93,861.866 1008.28,849.179 1029.63,836.492 1050.98,823.806 1072.33,811.119 1093.68,798.432 1115.04,785.746 1136.39,773.059 1157.74,760.372 1179.09,747.685 1200.44,734.999 1221.79,722.312 1243.14,709.625 1264.49,696.939 1285.84,684.252 1307.2,671.565 1328.55,658.878 1349.9,646.192 1371.25,633.505 1392.6,620.818 1413.95,608.132 1435.3,595.445 1456.65,582.758 1478,570.071 1499.35,557.385 1520.71,544.698 1542.06,532.011 1563.41,519.325 1584.76,506.638 1606.11,493.951 1627.46,481.264 1648.81,468.578 1670.16,455.891 1691.51,443.204 1712.87,430.518 1734.22,417.831 1755.57,405.144 1776.92,392.457 1798.27,379.771 1819.62,367.084 1840.97,354.397 1862.32,341.711 1883.67,329.024 1905.02,316.337 1926.38,303.65 1947.73,290.964 1969.08,278.277 1990.43,265.59 2011.78,252.904 2033.13,240.217 2054.48,227.53 2075.83,214.843 2097.18,202.157 2118.53,189.47 2139.89,176.783 2161.24,164.097 2182.59,151.41 2203.94,138.723 2225.29,126.036 2246.64,113.35 2267.99,100.663 2289.34,87.9763 \"/>\n",
       "<polyline clip-path=\"url(#clip202)\" style=\"stroke:#e26f46; stroke-linecap:round; stroke-linejoin:round; stroke-width:4; stroke-opacity:1; fill:none\" points=\"175.59,1404.96 196.941,1376 218.292,1350.81 239.643,1328.52 260.994,1308.5 282.345,1290.31 303.696,1273.59 325.047,1258.1 346.398,1243.62 367.749,1230 389.1,1217.11 410.451,1204.83 431.802,1193.1 453.153,1181.84 474.504,1170.98 495.855,1160.49 517.207,1150.32 538.558,1140.43 559.909,1130.79 581.26,1121.38 602.611,1112.17 623.962,1103.15 645.313,1094.3 666.664,1085.6 688.015,1077.03 709.366,1068.6 730.717,1060.28 752.068,1052.06 773.419,1043.95 794.77,1035.92 816.121,1027.98 837.472,1020.12 858.823,1012.33 880.174,1004.61 901.525,996.95 922.876,989.349 944.227,981.802 965.578,974.307 986.93,966.859 1008.28,959.457 1029.63,952.097 1050.98,944.776 1072.33,937.494 1093.68,930.247 1115.04,923.033 1136.39,915.851 1157.74,908.699 1179.09,901.575 1200.44,894.478 1221.79,887.407 1243.14,880.36 1264.49,873.336 1285.84,866.334 1307.2,859.353 1328.55,852.391 1349.9,845.449 1371.25,838.525 1392.6,831.618 1413.95,824.728 1435.3,817.854 1456.65,810.995 1478,804.15 1499.35,797.32 1520.71,790.502 1542.06,783.698 1563.41,776.906 1584.76,770.125 1606.11,763.356 1627.46,756.598 1648.81,749.85 1670.16,743.113 1691.51,736.385 1712.87,729.666 1734.22,722.957 1755.57,716.256 1776.92,709.564 1798.27,702.88 1819.62,696.204 1840.97,689.535 1862.32,682.873 1883.67,676.219 1905.02,669.571 1926.38,662.931 1947.73,656.296 1969.08,649.668 1990.43,643.045 2011.78,636.429 2033.13,629.818 2054.48,623.212 2075.83,616.612 2097.18,610.017 2118.53,603.427 2139.89,596.842 2161.24,590.262 2182.59,583.686 2203.94,577.114 2225.29,570.547 2246.64,563.984 2267.99,557.425 2289.34,550.87 \"/>\n",
       "<polyline clip-path=\"url(#clip202)\" style=\"stroke:#3da44d; stroke-linecap:round; stroke-linejoin:round; stroke-width:4; stroke-opacity:1; fill:none\" points=\"175.59,1433.16 196.941,1386.54 218.292,1355.14 239.643,1330.32 260.994,1309.22 282.345,1290.57 303.696,1273.68 325.047,1258.12 346.398,1243.63 367.749,1230 389.1,1217.11 410.451,1204.83 431.802,1193.11 453.153,1181.85 474.504,1171.02 495.855,1160.57 517.207,1150.45 538.558,1140.65 559.909,1131.13 581.26,1121.87 602.611,1112.84 623.962,1104.04 645.313,1095.45 666.664,1087.05 688.015,1078.82 709.366,1070.77 730.717,1062.87 752.068,1055.12 773.419,1047.52 794.77,1040.05 816.121,1032.7 837.472,1025.47 858.823,1018.36 880.174,1011.35 901.525,1004.45 922.876,997.651 944.227,990.943 965.578,984.325 986.93,977.793 1008.28,971.345 1029.63,964.976 1050.98,958.683 1072.33,952.463 1093.68,946.314 1115.04,940.233 1136.39,934.217 1157.74,928.264 1179.09,922.372 1200.44,916.538 1221.79,910.761 1243.14,905.039 1264.49,899.37 1285.84,893.751 1307.2,888.183 1328.55,882.662 1349.9,877.187 1371.25,871.757 1392.6,866.371 1413.95,861.028 1435.3,855.725 1456.65,850.462 1478,845.237 1499.35,840.05 1520.71,834.9 1542.06,829.785 1563.41,824.704 1584.76,819.657 1606.11,814.642 1627.46,809.66 1648.81,804.707 1670.16,799.786 1691.51,794.893 1712.87,790.029 1734.22,785.192 1755.57,780.383 1776.92,775.6 1798.27,770.843 1819.62,766.111 1840.97,761.403 1862.32,756.72 1883.67,752.06 1905.02,747.422 1926.38,742.807 1947.73,738.214 1969.08,733.641 1990.43,729.09 2011.78,724.559 2033.13,720.048 2054.48,715.556 2075.83,711.083 2097.18,706.629 2118.53,702.192 2139.89,697.774 2161.24,693.373 2182.59,688.989 2203.94,684.622 2225.29,680.271 2246.64,675.936 2267.99,671.616 2289.34,667.312 \"/>\n",
       "<polyline clip-path=\"url(#clip202)\" style=\"stroke:#c271d2; stroke-linecap:round; stroke-linejoin:round; stroke-width:4; stroke-opacity:1; fill:none\" points=\"175.59,1443.68 196.941,1387.2 218.292,1355.22 239.643,1330.33 260.994,1309.22 282.345,1290.57 303.696,1273.68 325.047,1258.12 346.398,1243.63 367.749,1230 389.1,1217.11 410.451,1204.83 431.802,1193.11 453.153,1181.85 474.504,1171.02 495.855,1160.57 517.207,1150.45 538.558,1140.65 559.909,1131.13 581.26,1121.87 602.611,1112.84 623.962,1104.04 645.313,1095.45 666.664,1087.05 688.015,1078.83 709.366,1070.77 730.717,1062.88 752.068,1055.14 773.419,1047.53 794.77,1040.06 816.121,1032.72 837.472,1025.5 858.823,1018.4 880.174,1011.4 901.525,1004.51 922.876,997.724 944.227,991.03 965.578,984.428 986.93,977.915 1008.28,971.486 1029.63,965.14 1050.98,958.871 1072.33,952.679 1093.68,946.56 1115.04,940.511 1136.39,934.531 1157.74,928.617 1179.09,922.766 1200.44,916.977 1221.79,911.248 1243.14,905.577 1264.49,899.962 1285.84,894.403 1307.2,888.896 1328.55,883.44 1349.9,878.035 1371.25,872.679 1392.6,867.37 1413.95,862.108 1435.3,856.89 1456.65,851.717 1478,846.586 1499.35,841.497 1520.71,836.449 1542.06,831.441 1563.41,826.472 1584.76,821.54 1606.11,816.646 1627.46,811.788 1648.81,806.966 1670.16,802.178 1691.51,797.425 1712.87,792.704 1734.22,788.016 1755.57,783.36 1776.92,778.736 1798.27,774.142 1819.62,769.578 1840.97,765.043 1862.32,760.537 1883.67,756.06 1905.02,751.61 1926.38,747.188 1947.73,742.793 1969.08,738.423 1990.43,734.08 2011.78,729.762 2033.13,725.469 2054.48,721.2 2075.83,716.955 2097.18,712.735 2118.53,708.537 2139.89,704.362 2161.24,700.21 2182.59,696.079 2203.94,691.971 2225.29,687.884 2246.64,683.818 2267.99,679.773 2289.34,675.748 \"/>\n",
       "<polyline clip-path=\"url(#clip202)\" style=\"stroke:#ac8d18; stroke-linecap:round; stroke-linejoin:round; stroke-width:4; stroke-opacity:1; fill:none\" points=\"175.59,1445.72 196.941,1387.2 218.292,1355.22 239.643,1330.33 260.994,1309.22 282.345,1290.57 303.696,1273.68 325.047,1258.12 346.398,1243.63 367.749,1230 389.1,1217.11 410.451,1204.83 431.802,1193.11 453.153,1181.85 474.504,1171.02 495.855,1160.57 517.207,1150.45 538.558,1140.65 559.909,1131.13 581.26,1121.87 602.611,1112.84 623.962,1104.04 645.313,1095.45 666.664,1087.05 688.015,1078.83 709.366,1070.77 730.717,1062.88 752.068,1055.14 773.419,1047.53 794.77,1040.06 816.121,1032.72 837.472,1025.5 858.823,1018.4 880.174,1011.4 901.525,1004.51 922.876,997.724 944.227,991.03 965.578,984.428 986.93,977.915 1008.28,971.486 1029.63,965.14 1050.98,958.871 1072.33,952.679 1093.68,946.56 1115.04,940.511 1136.39,934.531 1157.74,928.617 1179.09,922.766 1200.44,916.977 1221.79,911.248 1243.14,905.577 1264.49,899.963 1285.84,894.403 1307.2,888.896 1328.55,883.441 1349.9,878.036 1371.25,872.68 1392.6,867.371 1413.95,862.109 1435.3,856.891 1456.65,851.718 1478,846.588 1499.35,841.499 1520.71,836.451 1542.06,831.443 1563.41,826.474 1584.76,821.543 1606.11,816.649 1627.46,811.792 1648.81,806.97 1670.16,802.183 1691.51,797.429 1712.87,792.709 1734.22,788.022 1755.57,783.367 1776.92,778.743 1798.27,774.149 1819.62,769.586 1840.97,765.052 1862.32,760.548 1883.67,756.071 1905.02,751.623 1926.38,747.201 1947.73,742.807 1969.08,738.439 1990.43,734.097 2011.78,729.78 2033.13,725.488 2054.48,721.221 2075.83,716.978 2097.18,712.759 2118.53,708.563 2139.89,704.39 2161.24,700.24 2182.59,696.112 2203.94,692.006 2225.29,687.921 2246.64,683.857 2267.99,679.815 2289.34,675.793 \"/>\n",
       "<path clip-path=\"url(#clip200)\" d=\"M186.863 406.258 L508.953 406.258 L508.953 95.2176 L186.863 95.2176  Z\" fill=\"#ffffff\" fill-rule=\"evenodd\" fill-opacity=\"1\"/>\n",
       "<polyline clip-path=\"url(#clip200)\" style=\"stroke:#000000; stroke-linecap:round; stroke-linejoin:round; stroke-width:4; stroke-opacity:1; fill:none\" points=\"186.863,406.258 508.953,406.258 508.953,95.2176 186.863,95.2176 186.863,406.258 \"/>\n",
       "<polyline clip-path=\"url(#clip200)\" style=\"stroke:#009af9; stroke-linecap:round; stroke-linejoin:round; stroke-width:4; stroke-opacity:1; fill:none\" points=\"211.758,147.058 361.13,147.058 \"/>\n",
       "<path clip-path=\"url(#clip200)\" d=\"M386.026 129.778 L392.322 129.778 L407.646 158.689 L407.646 129.778 L412.183 129.778 L412.183 164.338 L405.887 164.338 L390.563 135.426 L390.563 164.338 L386.026 164.338 L386.026 129.778 Z\" fill=\"#000000\" fill-rule=\"nonzero\" fill-opacity=\"1\" /><path clip-path=\"url(#clip200)\" d=\"M421.859 142.81 L451.535 142.81 L451.535 146.699 L421.859 146.699 L421.859 142.81 M421.859 152.254 L451.535 152.254 L451.535 156.189 L421.859 156.189 L421.859 152.254 Z\" fill=\"#000000\" fill-rule=\"nonzero\" fill-opacity=\"1\" /><path clip-path=\"url(#clip200)\" d=\"M462.437 160.402 L470.076 160.402 L470.076 134.037 L461.766 135.703 L461.766 131.444 L470.03 129.778 L474.706 129.778 L474.706 160.402 L482.345 160.402 L482.345 164.338 L462.437 164.338 L462.437 160.402 Z\" fill=\"#000000\" fill-rule=\"nonzero\" fill-opacity=\"1\" /><polyline clip-path=\"url(#clip200)\" style=\"stroke:#e26f46; stroke-linecap:round; stroke-linejoin:round; stroke-width:4; stroke-opacity:1; fill:none\" points=\"211.758,198.898 361.13,198.898 \"/>\n",
       "<path clip-path=\"url(#clip200)\" d=\"M386.026 181.618 L392.322 181.618 L407.646 210.529 L407.646 181.618 L412.183 181.618 L412.183 216.178 L405.887 216.178 L390.563 187.266 L390.563 216.178 L386.026 216.178 L386.026 181.618 Z\" fill=\"#000000\" fill-rule=\"nonzero\" fill-opacity=\"1\" /><path clip-path=\"url(#clip200)\" d=\"M421.859 194.65 L451.535 194.65 L451.535 198.539 L421.859 198.539 L421.859 194.65 M421.859 204.094 L451.535 204.094 L451.535 208.029 L421.859 208.029 L421.859 204.094 Z\" fill=\"#000000\" fill-rule=\"nonzero\" fill-opacity=\"1\" /><path clip-path=\"url(#clip200)\" d=\"M465.655 212.242 L481.974 212.242 L481.974 216.178 L460.03 216.178 L460.03 212.242 Q462.692 209.488 467.275 204.858 Q471.882 200.205 473.062 198.863 Q475.308 196.34 476.187 194.604 Q477.09 192.844 477.09 191.155 Q477.09 188.4 475.146 186.664 Q473.224 184.928 470.122 184.928 Q467.923 184.928 465.47 185.692 Q463.039 186.455 460.261 188.006 L460.261 183.284 Q463.085 182.15 465.539 181.571 Q467.993 180.993 470.03 180.993 Q475.4 180.993 478.595 183.678 Q481.789 186.363 481.789 190.854 Q481.789 192.983 480.979 194.905 Q480.192 196.803 478.085 199.395 Q477.507 200.067 474.405 203.284 Q471.303 206.479 465.655 212.242 Z\" fill=\"#000000\" fill-rule=\"nonzero\" fill-opacity=\"1\" /><polyline clip-path=\"url(#clip200)\" style=\"stroke:#3da44d; stroke-linecap:round; stroke-linejoin:round; stroke-width:4; stroke-opacity:1; fill:none\" points=\"211.758,250.738 361.13,250.738 \"/>\n",
       "<path clip-path=\"url(#clip200)\" d=\"M386.026 233.458 L392.322 233.458 L407.646 262.369 L407.646 233.458 L412.183 233.458 L412.183 268.018 L405.887 268.018 L390.563 239.106 L390.563 268.018 L386.026 268.018 L386.026 233.458 Z\" fill=\"#000000\" fill-rule=\"nonzero\" fill-opacity=\"1\" /><path clip-path=\"url(#clip200)\" d=\"M421.859 246.49 L451.535 246.49 L451.535 250.379 L421.859 250.379 L421.859 246.49 M421.859 255.934 L451.535 255.934 L451.535 259.869 L421.859 259.869 L421.859 255.934 Z\" fill=\"#000000\" fill-rule=\"nonzero\" fill-opacity=\"1\" /><path clip-path=\"url(#clip200)\" d=\"M475.794 249.383 Q479.15 250.101 481.025 252.369 Q482.923 254.638 482.923 257.971 Q482.923 263.087 479.405 265.888 Q475.886 268.689 469.405 268.689 Q467.229 268.689 464.914 268.249 Q462.622 267.832 460.169 266.976 L460.169 262.462 Q462.113 263.596 464.428 264.175 Q466.743 264.754 469.266 264.754 Q473.664 264.754 475.956 263.018 Q478.271 261.281 478.271 257.971 Q478.271 254.916 476.118 253.203 Q473.988 251.467 470.169 251.467 L466.141 251.467 L466.141 247.624 L470.354 247.624 Q473.803 247.624 475.632 246.258 Q477.46 244.87 477.46 242.277 Q477.46 239.615 475.562 238.203 Q473.687 236.768 470.169 236.768 Q468.247 236.768 466.048 237.184 Q463.849 237.601 461.21 238.481 L461.21 234.314 Q463.872 233.573 466.187 233.203 Q468.525 232.833 470.585 232.833 Q475.909 232.833 479.011 235.263 Q482.113 237.67 482.113 241.791 Q482.113 244.661 480.47 246.652 Q478.826 248.62 475.794 249.383 Z\" fill=\"#000000\" fill-rule=\"nonzero\" fill-opacity=\"1\" /><polyline clip-path=\"url(#clip200)\" style=\"stroke:#c271d2; stroke-linecap:round; stroke-linejoin:round; stroke-width:4; stroke-opacity:1; fill:none\" points=\"211.758,302.578 361.13,302.578 \"/>\n",
       "<path clip-path=\"url(#clip200)\" d=\"M386.026 285.298 L392.322 285.298 L407.646 314.209 L407.646 285.298 L412.183 285.298 L412.183 319.858 L405.887 319.858 L390.563 290.946 L390.563 319.858 L386.026 319.858 L386.026 285.298 Z\" fill=\"#000000\" fill-rule=\"nonzero\" fill-opacity=\"1\" /><path clip-path=\"url(#clip200)\" d=\"M421.859 298.33 L451.535 298.33 L451.535 302.219 L421.859 302.219 L421.859 298.33 M421.859 307.774 L451.535 307.774 L451.535 311.709 L421.859 311.709 L421.859 307.774 Z\" fill=\"#000000\" fill-rule=\"nonzero\" fill-opacity=\"1\" /><path clip-path=\"url(#clip200)\" d=\"M474.474 289.372 L462.669 307.821 L474.474 307.821 L474.474 289.372 M473.247 285.298 L479.127 285.298 L479.127 307.821 L484.058 307.821 L484.058 311.709 L479.127 311.709 L479.127 319.858 L474.474 319.858 L474.474 311.709 L458.873 311.709 L458.873 307.196 L473.247 285.298 Z\" fill=\"#000000\" fill-rule=\"nonzero\" fill-opacity=\"1\" /><polyline clip-path=\"url(#clip200)\" style=\"stroke:#ac8d18; stroke-linecap:round; stroke-linejoin:round; stroke-width:4; stroke-opacity:1; fill:none\" points=\"211.758,354.418 361.13,354.418 \"/>\n",
       "<path clip-path=\"url(#clip200)\" d=\"M386.026 337.138 L392.322 337.138 L407.646 366.049 L407.646 337.138 L412.183 337.138 L412.183 371.698 L405.887 371.698 L390.563 342.786 L390.563 371.698 L386.026 371.698 L386.026 337.138 Z\" fill=\"#000000\" fill-rule=\"nonzero\" fill-opacity=\"1\" /><path clip-path=\"url(#clip200)\" d=\"M421.859 350.17 L451.535 350.17 L451.535 354.059 L421.859 354.059 L421.859 350.17 M421.859 359.614 L451.535 359.614 L451.535 363.549 L421.859 363.549 L421.859 359.614 Z\" fill=\"#000000\" fill-rule=\"nonzero\" fill-opacity=\"1\" /><path clip-path=\"url(#clip200)\" d=\"M461.673 337.138 L480.03 337.138 L480.03 341.073 L465.956 341.073 L465.956 349.545 Q466.974 349.198 467.993 349.036 Q469.011 348.85 470.03 348.85 Q475.817 348.85 479.196 352.022 Q482.576 355.193 482.576 360.61 Q482.576 366.188 479.104 369.29 Q475.632 372.369 469.312 372.369 Q467.136 372.369 464.868 371.998 Q462.622 371.628 460.215 370.887 L460.215 366.188 Q462.298 367.323 464.521 367.878 Q466.743 368.434 469.22 368.434 Q473.224 368.434 475.562 366.327 Q477.9 364.221 477.9 360.61 Q477.9 356.999 475.562 354.892 Q473.224 352.786 469.22 352.786 Q467.345 352.786 465.47 353.202 Q463.618 353.619 461.673 354.499 L461.673 337.138 Z\" fill=\"#000000\" fill-rule=\"nonzero\" fill-opacity=\"1\" /></svg>\n"
      ],
      "text/html": [
       "<?xml version=\"1.0\" encoding=\"utf-8\"?>\n",
       "<svg xmlns=\"http://www.w3.org/2000/svg\" xmlns:xlink=\"http://www.w3.org/1999/xlink\" width=\"600\" height=\"400\" viewBox=\"0 0 2400 1600\">\n",
       "<defs>\n",
       "  <clipPath id=\"clip250\">\n",
       "    <rect x=\"0\" y=\"0\" width=\"2400\" height=\"1600\"/>\n",
       "  </clipPath>\n",
       "</defs>\n",
       "<path clip-path=\"url(#clip250)\" d=\"M0 1600 L2400 1600 L2400 8.88178e-14 L0 8.88178e-14  Z\" fill=\"#ffffff\" fill-rule=\"evenodd\" fill-opacity=\"1\"/>\n",
       "<defs>\n",
       "  <clipPath id=\"clip251\">\n",
       "    <rect x=\"480\" y=\"0\" width=\"1681\" height=\"1600\"/>\n",
       "  </clipPath>\n",
       "</defs>\n",
       "<path clip-path=\"url(#clip250)\" d=\"M112.177 1486.45 L2352.76 1486.45 L2352.76 47.2441 L112.177 47.2441  Z\" fill=\"#ffffff\" fill-rule=\"evenodd\" fill-opacity=\"1\"/>\n",
       "<defs>\n",
       "  <clipPath id=\"clip252\">\n",
       "    <rect x=\"112\" y=\"47\" width=\"2242\" height=\"1440\"/>\n",
       "  </clipPath>\n",
       "</defs>\n",
       "<polyline clip-path=\"url(#clip252)\" style=\"stroke:#000000; stroke-linecap:round; stroke-linejoin:round; stroke-width:2; stroke-opacity:0.1; fill:none\" points=\"173.474,1486.45 173.474,47.2441 \"/>\n",
       "<polyline clip-path=\"url(#clip252)\" style=\"stroke:#000000; stroke-linecap:round; stroke-linejoin:round; stroke-width:2; stroke-opacity:0.1; fill:none\" points=\"702.441,1486.45 702.441,47.2441 \"/>\n",
       "<polyline clip-path=\"url(#clip252)\" style=\"stroke:#000000; stroke-linecap:round; stroke-linejoin:round; stroke-width:2; stroke-opacity:0.1; fill:none\" points=\"1231.41,1486.45 1231.41,47.2441 \"/>\n",
       "<polyline clip-path=\"url(#clip252)\" style=\"stroke:#000000; stroke-linecap:round; stroke-linejoin:round; stroke-width:2; stroke-opacity:0.1; fill:none\" points=\"1760.38,1486.45 1760.38,47.2441 \"/>\n",
       "<polyline clip-path=\"url(#clip252)\" style=\"stroke:#000000; stroke-linecap:round; stroke-linejoin:round; stroke-width:2; stroke-opacity:0.1; fill:none\" points=\"2289.34,1486.45 2289.34,47.2441 \"/>\n",
       "<polyline clip-path=\"url(#clip252)\" style=\"stroke:#000000; stroke-linecap:round; stroke-linejoin:round; stroke-width:2; stroke-opacity:0.1; fill:none\" points=\"112.177,1470.94 2352.76,1470.94 \"/>\n",
       "<polyline clip-path=\"url(#clip252)\" style=\"stroke:#000000; stroke-linecap:round; stroke-linejoin:round; stroke-width:2; stroke-opacity:0.1; fill:none\" points=\"112.177,1219.49 2352.76,1219.49 \"/>\n",
       "<polyline clip-path=\"url(#clip252)\" style=\"stroke:#000000; stroke-linecap:round; stroke-linejoin:round; stroke-width:2; stroke-opacity:0.1; fill:none\" points=\"112.177,968.046 2352.76,968.046 \"/>\n",
       "<polyline clip-path=\"url(#clip252)\" style=\"stroke:#000000; stroke-linecap:round; stroke-linejoin:round; stroke-width:2; stroke-opacity:0.1; fill:none\" points=\"112.177,716.597 2352.76,716.597 \"/>\n",
       "<polyline clip-path=\"url(#clip252)\" style=\"stroke:#000000; stroke-linecap:round; stroke-linejoin:round; stroke-width:2; stroke-opacity:0.1; fill:none\" points=\"112.177,465.149 2352.76,465.149 \"/>\n",
       "<polyline clip-path=\"url(#clip252)\" style=\"stroke:#000000; stroke-linecap:round; stroke-linejoin:round; stroke-width:2; stroke-opacity:0.1; fill:none\" points=\"112.177,213.7 2352.76,213.7 \"/>\n",
       "<polyline clip-path=\"url(#clip250)\" style=\"stroke:#000000; stroke-linecap:round; stroke-linejoin:round; stroke-width:4; stroke-opacity:1; fill:none\" points=\"112.177,1486.45 2352.76,1486.45 \"/>\n",
       "<polyline clip-path=\"url(#clip250)\" style=\"stroke:#000000; stroke-linecap:round; stroke-linejoin:round; stroke-width:4; stroke-opacity:1; fill:none\" points=\"173.474,1486.45 173.474,1467.55 \"/>\n",
       "<polyline clip-path=\"url(#clip250)\" style=\"stroke:#000000; stroke-linecap:round; stroke-linejoin:round; stroke-width:4; stroke-opacity:1; fill:none\" points=\"702.441,1486.45 702.441,1467.55 \"/>\n",
       "<polyline clip-path=\"url(#clip250)\" style=\"stroke:#000000; stroke-linecap:round; stroke-linejoin:round; stroke-width:4; stroke-opacity:1; fill:none\" points=\"1231.41,1486.45 1231.41,1467.55 \"/>\n",
       "<polyline clip-path=\"url(#clip250)\" style=\"stroke:#000000; stroke-linecap:round; stroke-linejoin:round; stroke-width:4; stroke-opacity:1; fill:none\" points=\"1760.38,1486.45 1760.38,1467.55 \"/>\n",
       "<polyline clip-path=\"url(#clip250)\" style=\"stroke:#000000; stroke-linecap:round; stroke-linejoin:round; stroke-width:4; stroke-opacity:1; fill:none\" points=\"2289.34,1486.45 2289.34,1467.55 \"/>\n",
       "<path clip-path=\"url(#clip250)\" d=\"M150.858 1517.37 Q147.247 1517.37 145.419 1520.93 Q143.613 1524.47 143.613 1531.6 Q143.613 1538.71 145.419 1542.27 Q147.247 1545.82 150.858 1545.82 Q154.493 1545.82 156.298 1542.27 Q158.127 1538.71 158.127 1531.6 Q158.127 1524.47 156.298 1520.93 Q154.493 1517.37 150.858 1517.37 M150.858 1513.66 Q156.668 1513.66 159.724 1518.27 Q162.803 1522.85 162.803 1531.6 Q162.803 1540.33 159.724 1544.94 Q156.668 1549.52 150.858 1549.52 Q145.048 1549.52 141.969 1544.94 Q138.914 1540.33 138.914 1531.6 Q138.914 1522.85 141.969 1518.27 Q145.048 1513.66 150.858 1513.66 Z\" fill=\"#000000\" fill-rule=\"nonzero\" fill-opacity=\"1\" /><path clip-path=\"url(#clip250)\" d=\"M171.02 1542.97 L175.904 1542.97 L175.904 1548.85 L171.02 1548.85 L171.02 1542.97 Z\" fill=\"#000000\" fill-rule=\"nonzero\" fill-opacity=\"1\" /><path clip-path=\"url(#clip250)\" d=\"M196.09 1517.37 Q192.478 1517.37 190.65 1520.93 Q188.844 1524.47 188.844 1531.6 Q188.844 1538.71 190.65 1542.27 Q192.478 1545.82 196.09 1545.82 Q199.724 1545.82 201.529 1542.27 Q203.358 1538.71 203.358 1531.6 Q203.358 1524.47 201.529 1520.93 Q199.724 1517.37 196.09 1517.37 M196.09 1513.66 Q201.9 1513.66 204.955 1518.27 Q208.034 1522.85 208.034 1531.6 Q208.034 1540.33 204.955 1544.94 Q201.9 1549.52 196.09 1549.52 Q190.279 1549.52 187.201 1544.94 Q184.145 1540.33 184.145 1531.6 Q184.145 1522.85 187.201 1518.27 Q190.279 1513.66 196.09 1513.66 Z\" fill=\"#000000\" fill-rule=\"nonzero\" fill-opacity=\"1\" /><path clip-path=\"url(#clip250)\" d=\"M674.178 1544.91 L690.497 1544.91 L690.497 1548.85 L668.553 1548.85 L668.553 1544.91 Q671.215 1542.16 675.798 1537.53 Q680.404 1532.88 681.585 1531.53 Q683.83 1529.01 684.71 1527.27 Q685.613 1525.51 685.613 1523.82 Q685.613 1521.07 683.668 1519.33 Q681.747 1517.6 678.645 1517.6 Q676.446 1517.6 673.992 1518.36 Q671.562 1519.13 668.784 1520.68 L668.784 1515.95 Q671.608 1514.82 674.062 1514.24 Q676.515 1513.66 678.552 1513.66 Q683.923 1513.66 687.117 1516.35 Q690.312 1519.03 690.312 1523.52 Q690.312 1525.65 689.502 1527.57 Q688.714 1529.47 686.608 1532.07 Q686.029 1532.74 682.927 1535.95 Q679.826 1539.15 674.178 1544.91 Z\" fill=\"#000000\" fill-rule=\"nonzero\" fill-opacity=\"1\" /><path clip-path=\"url(#clip250)\" d=\"M700.312 1542.97 L705.196 1542.97 L705.196 1548.85 L700.312 1548.85 L700.312 1542.97 Z\" fill=\"#000000\" fill-rule=\"nonzero\" fill-opacity=\"1\" /><path clip-path=\"url(#clip250)\" d=\"M715.427 1514.29 L733.784 1514.29 L733.784 1518.22 L719.71 1518.22 L719.71 1526.7 Q720.728 1526.35 721.747 1526.19 Q722.765 1526 723.784 1526 Q729.571 1526 732.95 1529.17 Q736.33 1532.34 736.33 1537.76 Q736.33 1543.34 732.858 1546.44 Q729.386 1549.52 723.066 1549.52 Q720.89 1549.52 718.622 1549.15 Q716.376 1548.78 713.969 1548.04 L713.969 1543.34 Q716.052 1544.47 718.275 1545.03 Q720.497 1545.58 722.974 1545.58 Q726.978 1545.58 729.316 1543.48 Q731.654 1541.37 731.654 1537.76 Q731.654 1534.15 729.316 1532.04 Q726.978 1529.94 722.974 1529.94 Q721.099 1529.94 719.224 1530.35 Q717.372 1530.77 715.427 1531.65 L715.427 1514.29 Z\" fill=\"#000000\" fill-rule=\"nonzero\" fill-opacity=\"1\" /><path clip-path=\"url(#clip250)\" d=\"M1198.57 1514.29 L1216.93 1514.29 L1216.93 1518.22 L1202.86 1518.22 L1202.86 1526.7 Q1203.87 1526.35 1204.89 1526.19 Q1205.91 1526 1206.93 1526 Q1212.72 1526 1216.1 1529.17 Q1219.48 1532.34 1219.48 1537.76 Q1219.48 1543.34 1216 1546.44 Q1212.53 1549.52 1206.21 1549.52 Q1204.04 1549.52 1201.77 1549.15 Q1199.52 1548.78 1197.11 1548.04 L1197.11 1543.34 Q1199.2 1544.47 1201.42 1545.03 Q1203.64 1545.58 1206.12 1545.58 Q1210.12 1545.58 1212.46 1543.48 Q1214.8 1541.37 1214.8 1537.76 Q1214.8 1534.15 1212.46 1532.04 Q1210.12 1529.94 1206.12 1529.94 Q1204.24 1529.94 1202.37 1530.35 Q1200.52 1530.77 1198.57 1531.65 L1198.57 1514.29 Z\" fill=\"#000000\" fill-rule=\"nonzero\" fill-opacity=\"1\" /><path clip-path=\"url(#clip250)\" d=\"M1228.69 1542.97 L1233.57 1542.97 L1233.57 1548.85 L1228.69 1548.85 L1228.69 1542.97 Z\" fill=\"#000000\" fill-rule=\"nonzero\" fill-opacity=\"1\" /><path clip-path=\"url(#clip250)\" d=\"M1253.76 1517.37 Q1250.15 1517.37 1248.32 1520.93 Q1246.51 1524.47 1246.51 1531.6 Q1246.51 1538.71 1248.32 1542.27 Q1250.15 1545.82 1253.76 1545.82 Q1257.39 1545.82 1259.2 1542.27 Q1261.03 1538.71 1261.03 1531.6 Q1261.03 1524.47 1259.2 1520.93 Q1257.39 1517.37 1253.76 1517.37 M1253.76 1513.66 Q1259.57 1513.66 1262.62 1518.27 Q1265.7 1522.85 1265.7 1531.6 Q1265.7 1540.33 1262.62 1544.94 Q1259.57 1549.52 1253.76 1549.52 Q1247.95 1549.52 1244.87 1544.94 Q1241.81 1540.33 1241.81 1531.6 Q1241.81 1522.85 1244.87 1518.27 Q1247.95 1513.66 1253.76 1513.66 Z\" fill=\"#000000\" fill-rule=\"nonzero\" fill-opacity=\"1\" /><path clip-path=\"url(#clip250)\" d=\"M1726.7 1514.29 L1748.92 1514.29 L1748.92 1516.28 L1736.37 1548.85 L1731.49 1548.85 L1743.29 1518.22 L1726.7 1518.22 L1726.7 1514.29 Z\" fill=\"#000000\" fill-rule=\"nonzero\" fill-opacity=\"1\" /><path clip-path=\"url(#clip250)\" d=\"M1758.04 1542.97 L1762.92 1542.97 L1762.92 1548.85 L1758.04 1548.85 L1758.04 1542.97 Z\" fill=\"#000000\" fill-rule=\"nonzero\" fill-opacity=\"1\" /><path clip-path=\"url(#clip250)\" d=\"M1773.15 1514.29 L1791.51 1514.29 L1791.51 1518.22 L1777.44 1518.22 L1777.44 1526.7 Q1778.45 1526.35 1779.47 1526.19 Q1780.49 1526 1781.51 1526 Q1787.3 1526 1790.68 1529.17 Q1794.06 1532.34 1794.06 1537.76 Q1794.06 1543.34 1790.58 1546.44 Q1787.11 1549.52 1780.79 1549.52 Q1778.62 1549.52 1776.35 1549.15 Q1774.1 1548.78 1771.7 1548.04 L1771.7 1543.34 Q1773.78 1544.47 1776 1545.03 Q1778.22 1545.58 1780.7 1545.58 Q1784.7 1545.58 1787.04 1543.48 Q1789.38 1541.37 1789.38 1537.76 Q1789.38 1534.15 1787.04 1532.04 Q1784.7 1529.94 1780.7 1529.94 Q1778.82 1529.94 1776.95 1530.35 Q1775.1 1530.77 1773.15 1531.65 L1773.15 1514.29 Z\" fill=\"#000000\" fill-rule=\"nonzero\" fill-opacity=\"1\" /><path clip-path=\"url(#clip250)\" d=\"M2241.42 1544.91 L2249.05 1544.91 L2249.05 1518.55 L2240.74 1520.21 L2240.74 1515.95 L2249.01 1514.29 L2253.68 1514.29 L2253.68 1544.91 L2261.32 1544.91 L2261.32 1548.85 L2241.42 1548.85 L2241.42 1544.91 Z\" fill=\"#000000\" fill-rule=\"nonzero\" fill-opacity=\"1\" /><path clip-path=\"url(#clip250)\" d=\"M2280.77 1517.37 Q2277.16 1517.37 2275.33 1520.93 Q2273.52 1524.47 2273.52 1531.6 Q2273.52 1538.71 2275.33 1542.27 Q2277.16 1545.82 2280.77 1545.82 Q2284.4 1545.82 2286.21 1542.27 Q2288.04 1538.71 2288.04 1531.6 Q2288.04 1524.47 2286.21 1520.93 Q2284.4 1517.37 2280.77 1517.37 M2280.77 1513.66 Q2286.58 1513.66 2289.63 1518.27 Q2292.71 1522.85 2292.71 1531.6 Q2292.71 1540.33 2289.63 1544.94 Q2286.58 1549.52 2280.77 1549.52 Q2274.96 1549.52 2271.88 1544.94 Q2268.82 1540.33 2268.82 1531.6 Q2268.82 1522.85 2271.88 1518.27 Q2274.96 1513.66 2280.77 1513.66 Z\" fill=\"#000000\" fill-rule=\"nonzero\" fill-opacity=\"1\" /><path clip-path=\"url(#clip250)\" d=\"M2300.93 1542.97 L2305.81 1542.97 L2305.81 1548.85 L2300.93 1548.85 L2300.93 1542.97 Z\" fill=\"#000000\" fill-rule=\"nonzero\" fill-opacity=\"1\" /><path clip-path=\"url(#clip250)\" d=\"M2326 1517.37 Q2322.39 1517.37 2320.56 1520.93 Q2318.75 1524.47 2318.75 1531.6 Q2318.75 1538.71 2320.56 1542.27 Q2322.39 1545.82 2326 1545.82 Q2329.63 1545.82 2331.44 1542.27 Q2333.27 1538.71 2333.27 1531.6 Q2333.27 1524.47 2331.44 1520.93 Q2329.63 1517.37 2326 1517.37 M2326 1513.66 Q2331.81 1513.66 2334.86 1518.27 Q2337.94 1522.85 2337.94 1531.6 Q2337.94 1540.33 2334.86 1544.94 Q2331.81 1549.52 2326 1549.52 Q2320.19 1549.52 2317.11 1544.94 Q2314.05 1540.33 2314.05 1531.6 Q2314.05 1522.85 2317.11 1518.27 Q2320.19 1513.66 2326 1513.66 Z\" fill=\"#000000\" fill-rule=\"nonzero\" fill-opacity=\"1\" /><polyline clip-path=\"url(#clip250)\" style=\"stroke:#000000; stroke-linecap:round; stroke-linejoin:round; stroke-width:4; stroke-opacity:1; fill:none\" points=\"112.177,1486.45 112.177,47.2441 \"/>\n",
       "<polyline clip-path=\"url(#clip250)\" style=\"stroke:#000000; stroke-linecap:round; stroke-linejoin:round; stroke-width:4; stroke-opacity:1; fill:none\" points=\"112.177,1470.94 131.075,1470.94 \"/>\n",
       "<polyline clip-path=\"url(#clip250)\" style=\"stroke:#000000; stroke-linecap:round; stroke-linejoin:round; stroke-width:4; stroke-opacity:1; fill:none\" points=\"112.177,1219.49 131.075,1219.49 \"/>\n",
       "<polyline clip-path=\"url(#clip250)\" style=\"stroke:#000000; stroke-linecap:round; stroke-linejoin:round; stroke-width:4; stroke-opacity:1; fill:none\" points=\"112.177,968.046 131.075,968.046 \"/>\n",
       "<polyline clip-path=\"url(#clip250)\" style=\"stroke:#000000; stroke-linecap:round; stroke-linejoin:round; stroke-width:4; stroke-opacity:1; fill:none\" points=\"112.177,716.597 131.075,716.597 \"/>\n",
       "<polyline clip-path=\"url(#clip250)\" style=\"stroke:#000000; stroke-linecap:round; stroke-linejoin:round; stroke-width:4; stroke-opacity:1; fill:none\" points=\"112.177,465.149 131.075,465.149 \"/>\n",
       "<polyline clip-path=\"url(#clip250)\" style=\"stroke:#000000; stroke-linecap:round; stroke-linejoin:round; stroke-width:4; stroke-opacity:1; fill:none\" points=\"112.177,213.7 131.075,213.7 \"/>\n",
       "<path clip-path=\"url(#clip250)\" d=\"M64.2328 1456.74 Q60.6217 1456.74 58.793 1460.31 Q56.9875 1463.85 56.9875 1470.98 Q56.9875 1478.08 58.793 1481.65 Q60.6217 1485.19 64.2328 1485.19 Q67.867 1485.19 69.6726 1481.65 Q71.5013 1478.08 71.5013 1470.98 Q71.5013 1463.85 69.6726 1460.31 Q67.867 1456.74 64.2328 1456.74 M64.2328 1453.04 Q70.0429 1453.04 73.0985 1457.64 Q76.1772 1462.23 76.1772 1470.98 Q76.1772 1479.7 73.0985 1484.31 Q70.0429 1488.89 64.2328 1488.89 Q58.4226 1488.89 55.344 1484.31 Q52.2884 1479.7 52.2884 1470.98 Q52.2884 1462.23 55.344 1457.64 Q58.4226 1453.04 64.2328 1453.04 Z\" fill=\"#000000\" fill-rule=\"nonzero\" fill-opacity=\"1\" /><path clip-path=\"url(#clip250)\" d=\"M56.2699 1232.84 L63.9087 1232.84 L63.9087 1206.47 L55.5986 1208.14 L55.5986 1203.88 L63.8624 1202.21 L68.5383 1202.21 L68.5383 1232.84 L76.1772 1232.84 L76.1772 1236.77 L56.2699 1236.77 L56.2699 1232.84 Z\" fill=\"#000000\" fill-rule=\"nonzero\" fill-opacity=\"1\" /><path clip-path=\"url(#clip250)\" d=\"M59.8578 981.39 L76.1772 981.39 L76.1772 985.326 L54.2328 985.326 L54.2328 981.39 Q56.8949 978.636 61.4782 974.006 Q66.0846 969.354 67.2652 968.011 Q69.5105 965.488 70.3902 963.752 Q71.2929 961.992 71.2929 960.303 Q71.2929 957.548 69.3485 955.812 Q67.4272 954.076 64.3254 954.076 Q62.1263 954.076 59.6726 954.84 Q57.2421 955.604 54.4643 957.155 L54.4643 952.432 Q57.2884 951.298 59.7421 950.719 Q62.1958 950.141 64.2328 950.141 Q69.6031 950.141 72.7976 952.826 Q75.992 955.511 75.992 960.002 Q75.992 962.131 75.1818 964.053 Q74.3948 965.951 72.2883 968.543 Q71.7096 969.215 68.6078 972.432 Q65.5059 975.627 59.8578 981.39 Z\" fill=\"#000000\" fill-rule=\"nonzero\" fill-opacity=\"1\" /><path clip-path=\"url(#clip250)\" d=\"M69.0476 715.243 Q72.404 715.961 74.279 718.229 Q76.1772 720.498 76.1772 723.831 Q76.1772 728.947 72.6587 731.748 Q69.1402 734.549 62.6587 734.549 Q60.4828 734.549 58.168 734.109 Q55.8764 733.692 53.4227 732.836 L53.4227 728.322 Q55.3671 729.456 57.6819 730.035 Q59.9967 730.613 62.5198 730.613 Q66.918 730.613 69.2096 728.877 Q71.5244 727.141 71.5244 723.831 Q71.5244 720.775 69.3717 719.063 Q67.242 717.326 63.4226 717.326 L59.3949 717.326 L59.3949 713.484 L63.6078 713.484 Q67.0569 713.484 68.8855 712.118 Q70.7142 710.729 70.7142 708.137 Q70.7142 705.475 68.8161 704.063 Q66.9411 702.627 63.4226 702.627 Q61.5013 702.627 59.3023 703.044 Q57.1032 703.461 54.4643 704.34 L54.4643 700.174 Q57.1264 699.433 59.4412 699.063 Q61.7791 698.692 63.8393 698.692 Q69.1633 698.692 72.2652 701.123 Q75.367 703.53 75.367 707.651 Q75.367 710.521 73.7235 712.512 Q72.08 714.479 69.0476 715.243 Z\" fill=\"#000000\" fill-rule=\"nonzero\" fill-opacity=\"1\" /><path clip-path=\"url(#clip250)\" d=\"M66.5939 451.943 L54.7884 470.392 L66.5939 470.392 L66.5939 451.943 M65.367 447.869 L71.2466 447.869 L71.2466 470.392 L76.1772 470.392 L76.1772 474.281 L71.2466 474.281 L71.2466 482.429 L66.5939 482.429 L66.5939 474.281 L50.9921 474.281 L50.9921 469.767 L65.367 447.869 Z\" fill=\"#000000\" fill-rule=\"nonzero\" fill-opacity=\"1\" /><path clip-path=\"url(#clip250)\" d=\"M55.2745 196.42 L73.6309 196.42 L73.6309 200.356 L59.5569 200.356 L59.5569 208.828 Q60.5754 208.481 61.5939 208.319 Q62.6124 208.133 63.6309 208.133 Q69.418 208.133 72.7976 211.305 Q76.1772 214.476 76.1772 219.893 Q76.1772 225.471 72.705 228.573 Q69.2328 231.652 62.9134 231.652 Q60.7374 231.652 58.4689 231.281 Q56.2236 230.911 53.8162 230.17 L53.8162 225.471 Q55.8995 226.605 58.1217 227.161 Q60.3439 227.717 62.8208 227.717 Q66.8254 227.717 69.1633 225.61 Q71.5013 223.504 71.5013 219.893 Q71.5013 216.281 69.1633 214.175 Q66.8254 212.069 62.8208 212.069 Q60.9458 212.069 59.0708 212.485 Q57.2189 212.902 55.2745 213.781 L55.2745 196.42 Z\" fill=\"#000000\" fill-rule=\"nonzero\" fill-opacity=\"1\" /><polyline clip-path=\"url(#clip252)\" style=\"stroke:#009af9; stroke-linecap:round; stroke-linejoin:round; stroke-width:4; stroke-opacity:1; fill:none\" points=\"175.59,1343.96 196.941,1331.27 218.292,1318.59 239.643,1305.9 260.994,1293.21 282.345,1280.53 303.696,1267.84 325.047,1255.15 346.398,1242.47 367.749,1229.78 389.1,1217.09 410.451,1204.41 431.802,1191.72 453.153,1179.03 474.504,1166.35 495.855,1153.66 517.207,1140.97 538.558,1128.29 559.909,1115.6 581.26,1102.91 602.611,1090.23 623.962,1077.54 645.313,1064.85 666.664,1052.17 688.015,1039.48 709.366,1026.79 730.717,1014.11 752.068,1001.42 773.419,988.733 794.77,976.046 816.121,963.36 837.472,950.673 858.823,937.986 880.174,925.299 901.525,912.613 922.876,899.926 944.227,887.239 965.578,874.553 986.93,861.866 1008.28,849.179 1029.63,836.492 1050.98,823.806 1072.33,811.119 1093.68,798.432 1115.04,785.746 1136.39,773.059 1157.74,760.372 1179.09,747.685 1200.44,734.999 1221.79,722.312 1243.14,709.625 1264.49,696.939 1285.84,684.252 1307.2,671.565 1328.55,658.878 1349.9,646.192 1371.25,633.505 1392.6,620.818 1413.95,608.132 1435.3,595.445 1456.65,582.758 1478,570.071 1499.35,557.385 1520.71,544.698 1542.06,532.011 1563.41,519.325 1584.76,506.638 1606.11,493.951 1627.46,481.264 1648.81,468.578 1670.16,455.891 1691.51,443.204 1712.87,430.518 1734.22,417.831 1755.57,405.144 1776.92,392.457 1798.27,379.771 1819.62,367.084 1840.97,354.397 1862.32,341.711 1883.67,329.024 1905.02,316.337 1926.38,303.65 1947.73,290.964 1969.08,278.277 1990.43,265.59 2011.78,252.904 2033.13,240.217 2054.48,227.53 2075.83,214.843 2097.18,202.157 2118.53,189.47 2139.89,176.783 2161.24,164.097 2182.59,151.41 2203.94,138.723 2225.29,126.036 2246.64,113.35 2267.99,100.663 2289.34,87.9763 \"/>\n",
       "<polyline clip-path=\"url(#clip252)\" style=\"stroke:#e26f46; stroke-linecap:round; stroke-linejoin:round; stroke-width:4; stroke-opacity:1; fill:none\" points=\"175.59,1404.96 196.941,1376 218.292,1350.81 239.643,1328.52 260.994,1308.5 282.345,1290.31 303.696,1273.59 325.047,1258.1 346.398,1243.62 367.749,1230 389.1,1217.11 410.451,1204.83 431.802,1193.1 453.153,1181.84 474.504,1170.98 495.855,1160.49 517.207,1150.32 538.558,1140.43 559.909,1130.79 581.26,1121.38 602.611,1112.17 623.962,1103.15 645.313,1094.3 666.664,1085.6 688.015,1077.03 709.366,1068.6 730.717,1060.28 752.068,1052.06 773.419,1043.95 794.77,1035.92 816.121,1027.98 837.472,1020.12 858.823,1012.33 880.174,1004.61 901.525,996.95 922.876,989.349 944.227,981.802 965.578,974.307 986.93,966.859 1008.28,959.457 1029.63,952.097 1050.98,944.776 1072.33,937.494 1093.68,930.247 1115.04,923.033 1136.39,915.851 1157.74,908.699 1179.09,901.575 1200.44,894.478 1221.79,887.407 1243.14,880.36 1264.49,873.336 1285.84,866.334 1307.2,859.353 1328.55,852.391 1349.9,845.449 1371.25,838.525 1392.6,831.618 1413.95,824.728 1435.3,817.854 1456.65,810.995 1478,804.15 1499.35,797.32 1520.71,790.502 1542.06,783.698 1563.41,776.906 1584.76,770.125 1606.11,763.356 1627.46,756.598 1648.81,749.85 1670.16,743.113 1691.51,736.385 1712.87,729.666 1734.22,722.957 1755.57,716.256 1776.92,709.564 1798.27,702.88 1819.62,696.204 1840.97,689.535 1862.32,682.873 1883.67,676.219 1905.02,669.571 1926.38,662.931 1947.73,656.296 1969.08,649.668 1990.43,643.045 2011.78,636.429 2033.13,629.818 2054.48,623.212 2075.83,616.612 2097.18,610.017 2118.53,603.427 2139.89,596.842 2161.24,590.262 2182.59,583.686 2203.94,577.114 2225.29,570.547 2246.64,563.984 2267.99,557.425 2289.34,550.87 \"/>\n",
       "<polyline clip-path=\"url(#clip252)\" style=\"stroke:#3da44d; stroke-linecap:round; stroke-linejoin:round; stroke-width:4; stroke-opacity:1; fill:none\" points=\"175.59,1433.16 196.941,1386.54 218.292,1355.14 239.643,1330.32 260.994,1309.22 282.345,1290.57 303.696,1273.68 325.047,1258.12 346.398,1243.63 367.749,1230 389.1,1217.11 410.451,1204.83 431.802,1193.11 453.153,1181.85 474.504,1171.02 495.855,1160.57 517.207,1150.45 538.558,1140.65 559.909,1131.13 581.26,1121.87 602.611,1112.84 623.962,1104.04 645.313,1095.45 666.664,1087.05 688.015,1078.82 709.366,1070.77 730.717,1062.87 752.068,1055.12 773.419,1047.52 794.77,1040.05 816.121,1032.7 837.472,1025.47 858.823,1018.36 880.174,1011.35 901.525,1004.45 922.876,997.651 944.227,990.943 965.578,984.325 986.93,977.793 1008.28,971.345 1029.63,964.976 1050.98,958.683 1072.33,952.463 1093.68,946.314 1115.04,940.233 1136.39,934.217 1157.74,928.264 1179.09,922.372 1200.44,916.538 1221.79,910.761 1243.14,905.039 1264.49,899.37 1285.84,893.751 1307.2,888.183 1328.55,882.662 1349.9,877.187 1371.25,871.757 1392.6,866.371 1413.95,861.028 1435.3,855.725 1456.65,850.462 1478,845.237 1499.35,840.05 1520.71,834.9 1542.06,829.785 1563.41,824.704 1584.76,819.657 1606.11,814.642 1627.46,809.66 1648.81,804.707 1670.16,799.786 1691.51,794.893 1712.87,790.029 1734.22,785.192 1755.57,780.383 1776.92,775.6 1798.27,770.843 1819.62,766.111 1840.97,761.403 1862.32,756.72 1883.67,752.06 1905.02,747.422 1926.38,742.807 1947.73,738.214 1969.08,733.641 1990.43,729.09 2011.78,724.559 2033.13,720.048 2054.48,715.556 2075.83,711.083 2097.18,706.629 2118.53,702.192 2139.89,697.774 2161.24,693.373 2182.59,688.989 2203.94,684.622 2225.29,680.271 2246.64,675.936 2267.99,671.616 2289.34,667.312 \"/>\n",
       "<polyline clip-path=\"url(#clip252)\" style=\"stroke:#c271d2; stroke-linecap:round; stroke-linejoin:round; stroke-width:4; stroke-opacity:1; fill:none\" points=\"175.59,1443.68 196.941,1387.2 218.292,1355.22 239.643,1330.33 260.994,1309.22 282.345,1290.57 303.696,1273.68 325.047,1258.12 346.398,1243.63 367.749,1230 389.1,1217.11 410.451,1204.83 431.802,1193.11 453.153,1181.85 474.504,1171.02 495.855,1160.57 517.207,1150.45 538.558,1140.65 559.909,1131.13 581.26,1121.87 602.611,1112.84 623.962,1104.04 645.313,1095.45 666.664,1087.05 688.015,1078.83 709.366,1070.77 730.717,1062.88 752.068,1055.14 773.419,1047.53 794.77,1040.06 816.121,1032.72 837.472,1025.5 858.823,1018.4 880.174,1011.4 901.525,1004.51 922.876,997.724 944.227,991.03 965.578,984.428 986.93,977.915 1008.28,971.486 1029.63,965.14 1050.98,958.871 1072.33,952.679 1093.68,946.56 1115.04,940.511 1136.39,934.531 1157.74,928.617 1179.09,922.766 1200.44,916.977 1221.79,911.248 1243.14,905.577 1264.49,899.962 1285.84,894.403 1307.2,888.896 1328.55,883.44 1349.9,878.035 1371.25,872.679 1392.6,867.37 1413.95,862.108 1435.3,856.89 1456.65,851.717 1478,846.586 1499.35,841.497 1520.71,836.449 1542.06,831.441 1563.41,826.472 1584.76,821.54 1606.11,816.646 1627.46,811.788 1648.81,806.966 1670.16,802.178 1691.51,797.425 1712.87,792.704 1734.22,788.016 1755.57,783.36 1776.92,778.736 1798.27,774.142 1819.62,769.578 1840.97,765.043 1862.32,760.537 1883.67,756.06 1905.02,751.61 1926.38,747.188 1947.73,742.793 1969.08,738.423 1990.43,734.08 2011.78,729.762 2033.13,725.469 2054.48,721.2 2075.83,716.955 2097.18,712.735 2118.53,708.537 2139.89,704.362 2161.24,700.21 2182.59,696.079 2203.94,691.971 2225.29,687.884 2246.64,683.818 2267.99,679.773 2289.34,675.748 \"/>\n",
       "<polyline clip-path=\"url(#clip252)\" style=\"stroke:#ac8d18; stroke-linecap:round; stroke-linejoin:round; stroke-width:4; stroke-opacity:1; fill:none\" points=\"175.59,1445.72 196.941,1387.2 218.292,1355.22 239.643,1330.33 260.994,1309.22 282.345,1290.57 303.696,1273.68 325.047,1258.12 346.398,1243.63 367.749,1230 389.1,1217.11 410.451,1204.83 431.802,1193.11 453.153,1181.85 474.504,1171.02 495.855,1160.57 517.207,1150.45 538.558,1140.65 559.909,1131.13 581.26,1121.87 602.611,1112.84 623.962,1104.04 645.313,1095.45 666.664,1087.05 688.015,1078.83 709.366,1070.77 730.717,1062.88 752.068,1055.14 773.419,1047.53 794.77,1040.06 816.121,1032.72 837.472,1025.5 858.823,1018.4 880.174,1011.4 901.525,1004.51 922.876,997.724 944.227,991.03 965.578,984.428 986.93,977.915 1008.28,971.486 1029.63,965.14 1050.98,958.871 1072.33,952.679 1093.68,946.56 1115.04,940.511 1136.39,934.531 1157.74,928.617 1179.09,922.766 1200.44,916.977 1221.79,911.248 1243.14,905.577 1264.49,899.963 1285.84,894.403 1307.2,888.896 1328.55,883.441 1349.9,878.036 1371.25,872.68 1392.6,867.371 1413.95,862.109 1435.3,856.891 1456.65,851.718 1478,846.588 1499.35,841.499 1520.71,836.451 1542.06,831.443 1563.41,826.474 1584.76,821.543 1606.11,816.649 1627.46,811.792 1648.81,806.97 1670.16,802.183 1691.51,797.429 1712.87,792.709 1734.22,788.022 1755.57,783.367 1776.92,778.743 1798.27,774.149 1819.62,769.586 1840.97,765.052 1862.32,760.548 1883.67,756.071 1905.02,751.623 1926.38,747.201 1947.73,742.807 1969.08,738.439 1990.43,734.097 2011.78,729.78 2033.13,725.488 2054.48,721.221 2075.83,716.978 2097.18,712.759 2118.53,708.563 2139.89,704.39 2161.24,700.24 2182.59,696.112 2203.94,692.006 2225.29,687.921 2246.64,683.857 2267.99,679.815 2289.34,675.793 \"/>\n",
       "<path clip-path=\"url(#clip250)\" d=\"M186.863 406.258 L508.953 406.258 L508.953 95.2176 L186.863 95.2176  Z\" fill=\"#ffffff\" fill-rule=\"evenodd\" fill-opacity=\"1\"/>\n",
       "<polyline clip-path=\"url(#clip250)\" style=\"stroke:#000000; stroke-linecap:round; stroke-linejoin:round; stroke-width:4; stroke-opacity:1; fill:none\" points=\"186.863,406.258 508.953,406.258 508.953,95.2176 186.863,95.2176 186.863,406.258 \"/>\n",
       "<polyline clip-path=\"url(#clip250)\" style=\"stroke:#009af9; stroke-linecap:round; stroke-linejoin:round; stroke-width:4; stroke-opacity:1; fill:none\" points=\"211.758,147.058 361.13,147.058 \"/>\n",
       "<path clip-path=\"url(#clip250)\" d=\"M386.026 129.778 L392.322 129.778 L407.646 158.689 L407.646 129.778 L412.183 129.778 L412.183 164.338 L405.887 164.338 L390.563 135.426 L390.563 164.338 L386.026 164.338 L386.026 129.778 Z\" fill=\"#000000\" fill-rule=\"nonzero\" fill-opacity=\"1\" /><path clip-path=\"url(#clip250)\" d=\"M421.859 142.81 L451.535 142.81 L451.535 146.699 L421.859 146.699 L421.859 142.81 M421.859 152.254 L451.535 152.254 L451.535 156.189 L421.859 156.189 L421.859 152.254 Z\" fill=\"#000000\" fill-rule=\"nonzero\" fill-opacity=\"1\" /><path clip-path=\"url(#clip250)\" d=\"M462.437 160.402 L470.076 160.402 L470.076 134.037 L461.766 135.703 L461.766 131.444 L470.03 129.778 L474.706 129.778 L474.706 160.402 L482.345 160.402 L482.345 164.338 L462.437 164.338 L462.437 160.402 Z\" fill=\"#000000\" fill-rule=\"nonzero\" fill-opacity=\"1\" /><polyline clip-path=\"url(#clip250)\" style=\"stroke:#e26f46; stroke-linecap:round; stroke-linejoin:round; stroke-width:4; stroke-opacity:1; fill:none\" points=\"211.758,198.898 361.13,198.898 \"/>\n",
       "<path clip-path=\"url(#clip250)\" d=\"M386.026 181.618 L392.322 181.618 L407.646 210.529 L407.646 181.618 L412.183 181.618 L412.183 216.178 L405.887 216.178 L390.563 187.266 L390.563 216.178 L386.026 216.178 L386.026 181.618 Z\" fill=\"#000000\" fill-rule=\"nonzero\" fill-opacity=\"1\" /><path clip-path=\"url(#clip250)\" d=\"M421.859 194.65 L451.535 194.65 L451.535 198.539 L421.859 198.539 L421.859 194.65 M421.859 204.094 L451.535 204.094 L451.535 208.029 L421.859 208.029 L421.859 204.094 Z\" fill=\"#000000\" fill-rule=\"nonzero\" fill-opacity=\"1\" /><path clip-path=\"url(#clip250)\" d=\"M465.655 212.242 L481.974 212.242 L481.974 216.178 L460.03 216.178 L460.03 212.242 Q462.692 209.488 467.275 204.858 Q471.882 200.205 473.062 198.863 Q475.308 196.34 476.187 194.604 Q477.09 192.844 477.09 191.155 Q477.09 188.4 475.146 186.664 Q473.224 184.928 470.122 184.928 Q467.923 184.928 465.47 185.692 Q463.039 186.455 460.261 188.006 L460.261 183.284 Q463.085 182.15 465.539 181.571 Q467.993 180.993 470.03 180.993 Q475.4 180.993 478.595 183.678 Q481.789 186.363 481.789 190.854 Q481.789 192.983 480.979 194.905 Q480.192 196.803 478.085 199.395 Q477.507 200.067 474.405 203.284 Q471.303 206.479 465.655 212.242 Z\" fill=\"#000000\" fill-rule=\"nonzero\" fill-opacity=\"1\" /><polyline clip-path=\"url(#clip250)\" style=\"stroke:#3da44d; stroke-linecap:round; stroke-linejoin:round; stroke-width:4; stroke-opacity:1; fill:none\" points=\"211.758,250.738 361.13,250.738 \"/>\n",
       "<path clip-path=\"url(#clip250)\" d=\"M386.026 233.458 L392.322 233.458 L407.646 262.369 L407.646 233.458 L412.183 233.458 L412.183 268.018 L405.887 268.018 L390.563 239.106 L390.563 268.018 L386.026 268.018 L386.026 233.458 Z\" fill=\"#000000\" fill-rule=\"nonzero\" fill-opacity=\"1\" /><path clip-path=\"url(#clip250)\" d=\"M421.859 246.49 L451.535 246.49 L451.535 250.379 L421.859 250.379 L421.859 246.49 M421.859 255.934 L451.535 255.934 L451.535 259.869 L421.859 259.869 L421.859 255.934 Z\" fill=\"#000000\" fill-rule=\"nonzero\" fill-opacity=\"1\" /><path clip-path=\"url(#clip250)\" d=\"M475.794 249.383 Q479.15 250.101 481.025 252.369 Q482.923 254.638 482.923 257.971 Q482.923 263.087 479.405 265.888 Q475.886 268.689 469.405 268.689 Q467.229 268.689 464.914 268.249 Q462.622 267.832 460.169 266.976 L460.169 262.462 Q462.113 263.596 464.428 264.175 Q466.743 264.754 469.266 264.754 Q473.664 264.754 475.956 263.018 Q478.271 261.281 478.271 257.971 Q478.271 254.916 476.118 253.203 Q473.988 251.467 470.169 251.467 L466.141 251.467 L466.141 247.624 L470.354 247.624 Q473.803 247.624 475.632 246.258 Q477.46 244.87 477.46 242.277 Q477.46 239.615 475.562 238.203 Q473.687 236.768 470.169 236.768 Q468.247 236.768 466.048 237.184 Q463.849 237.601 461.21 238.481 L461.21 234.314 Q463.872 233.573 466.187 233.203 Q468.525 232.833 470.585 232.833 Q475.909 232.833 479.011 235.263 Q482.113 237.67 482.113 241.791 Q482.113 244.661 480.47 246.652 Q478.826 248.62 475.794 249.383 Z\" fill=\"#000000\" fill-rule=\"nonzero\" fill-opacity=\"1\" /><polyline clip-path=\"url(#clip250)\" style=\"stroke:#c271d2; stroke-linecap:round; stroke-linejoin:round; stroke-width:4; stroke-opacity:1; fill:none\" points=\"211.758,302.578 361.13,302.578 \"/>\n",
       "<path clip-path=\"url(#clip250)\" d=\"M386.026 285.298 L392.322 285.298 L407.646 314.209 L407.646 285.298 L412.183 285.298 L412.183 319.858 L405.887 319.858 L390.563 290.946 L390.563 319.858 L386.026 319.858 L386.026 285.298 Z\" fill=\"#000000\" fill-rule=\"nonzero\" fill-opacity=\"1\" /><path clip-path=\"url(#clip250)\" d=\"M421.859 298.33 L451.535 298.33 L451.535 302.219 L421.859 302.219 L421.859 298.33 M421.859 307.774 L451.535 307.774 L451.535 311.709 L421.859 311.709 L421.859 307.774 Z\" fill=\"#000000\" fill-rule=\"nonzero\" fill-opacity=\"1\" /><path clip-path=\"url(#clip250)\" d=\"M474.474 289.372 L462.669 307.821 L474.474 307.821 L474.474 289.372 M473.247 285.298 L479.127 285.298 L479.127 307.821 L484.058 307.821 L484.058 311.709 L479.127 311.709 L479.127 319.858 L474.474 319.858 L474.474 311.709 L458.873 311.709 L458.873 307.196 L473.247 285.298 Z\" fill=\"#000000\" fill-rule=\"nonzero\" fill-opacity=\"1\" /><polyline clip-path=\"url(#clip250)\" style=\"stroke:#ac8d18; stroke-linecap:round; stroke-linejoin:round; stroke-width:4; stroke-opacity:1; fill:none\" points=\"211.758,354.418 361.13,354.418 \"/>\n",
       "<path clip-path=\"url(#clip250)\" d=\"M386.026 337.138 L392.322 337.138 L407.646 366.049 L407.646 337.138 L412.183 337.138 L412.183 371.698 L405.887 371.698 L390.563 342.786 L390.563 371.698 L386.026 371.698 L386.026 337.138 Z\" fill=\"#000000\" fill-rule=\"nonzero\" fill-opacity=\"1\" /><path clip-path=\"url(#clip250)\" d=\"M421.859 350.17 L451.535 350.17 L451.535 354.059 L421.859 354.059 L421.859 350.17 M421.859 359.614 L451.535 359.614 L451.535 363.549 L421.859 363.549 L421.859 359.614 Z\" fill=\"#000000\" fill-rule=\"nonzero\" fill-opacity=\"1\" /><path clip-path=\"url(#clip250)\" d=\"M461.673 337.138 L480.03 337.138 L480.03 341.073 L465.956 341.073 L465.956 349.545 Q466.974 349.198 467.993 349.036 Q469.011 348.85 470.03 348.85 Q475.817 348.85 479.196 352.022 Q482.576 355.193 482.576 360.61 Q482.576 366.188 479.104 369.29 Q475.632 372.369 469.312 372.369 Q467.136 372.369 464.868 371.998 Q462.622 371.628 460.215 370.887 L460.215 366.188 Q462.298 367.323 464.521 367.878 Q466.743 368.434 469.22 368.434 Q473.224 368.434 475.562 366.327 Q477.9 364.221 477.9 360.61 Q477.9 356.999 475.562 354.892 Q473.224 352.786 469.22 352.786 Q467.345 352.786 465.47 353.202 Q463.618 353.619 461.673 354.499 L461.673 337.138 Z\" fill=\"#000000\" fill-rule=\"nonzero\" fill-opacity=\"1\" /></svg>\n"
      ]
     },
     "execution_count": 6,
     "metadata": {},
     "output_type": "execute_result"
    }
   ],
   "source": [
    "plot!()"
   ]
  },
  {
   "cell_type": "markdown",
   "id": "c2b8c771-bdcb-4ae5-9e00-fff0ab06894c",
   "metadata": {
    "editable": true,
    "slideshow": {
     "slide_type": "subslide"
    },
    "tags": []
   },
   "source": [
    "### ... and now the derivative almost by magic"
   ]
  },
  {
   "cell_type": "markdown",
   "id": "6d2de385-2d68-4213-b4c3-6748fda29d6b",
   "metadata": {
    "editable": true,
    "slideshow": {
     "slide_type": "subslide"
    },
    "tags": []
   },
   "source": [
    "Define a dual type -- a mathematical object that's a function-derivative pair"
   ]
  },
  {
   "cell_type": "code",
   "execution_count": 7,
   "id": "e14816ee-6b15-4ca1-9769-a278f29da108",
   "metadata": {
    "editable": true,
    "slideshow": {
     "slide_type": "fragment"
    },
    "tags": []
   },
   "outputs": [],
   "source": [
    "struct D <: Number\n",
    "    f::Tuple{Float64,Float64}\n",
    "end"
   ]
  },
  {
   "cell_type": "markdown",
   "id": "e291fbb6-5c53-401a-a317-fdf9961399c0",
   "metadata": {
    "editable": true,
    "slideshow": {
     "slide_type": "subslide"
    },
    "tags": []
   },
   "source": [
    "The first element follows the normal rules of arithmetic. But the second element implements:\n",
    "* Sum Rule: $(x+y)' = x' + y'$\n",
    "* Quotient Rule: $(\\frac{x}{y})' = \\frac{yx'-xy'}{y^2}$"
   ]
  },
  {
   "cell_type": "code",
   "execution_count": 8,
   "id": "5aab455d-de39-4168-b368-03cc6c41ca9c",
   "metadata": {
    "editable": true,
    "slideshow": {
     "slide_type": "fragment"
    },
    "tags": []
   },
   "outputs": [
    {
     "data": {
      "text/plain": [
       "promote_rule (generic function with 152 methods)"
      ]
     },
     "execution_count": 8,
     "metadata": {},
     "output_type": "execute_result"
    }
   ],
   "source": [
    "import Base: +, -, *, /, convert, promote_rule\n",
    "+(x::D, y::D) = D(x.f .+ y.f)\n",
    "-(x::D, y::D) = D(x.f .- y.f)\n",
    "*(x::D, y::D) = D((x.f[1]*y.f[1], (x.f[2]*y.f[1] + x.f[1]*y.f[2])))\n",
    "/(x::D, y::D) = D((x.f[1]/y.f[1], (y.f[1]*x.f[2] - x.f[1]*y.f[2])/y.f[1]^2))\n",
    "convert(::Type{D}, x::Real) = D((x,zero(x)))\n",
    "promote_rule(::Type{D}, ::Type{<:Number}) = D"
   ]
  },
  {
   "cell_type": "markdown",
   "id": "3cd9f971-1d51-451c-9435-09db269d9eb6",
   "metadata": {
    "editable": true,
    "slideshow": {
     "slide_type": "subslide"
    },
    "tags": []
   },
   "source": [
    "Let's compute the derivative of $\\sqrt{x}$ at $x=25$"
   ]
  },
  {
   "cell_type": "markdown",
   "id": "92e17f66-f11b-45f8-ac95-ea572ea2e9a6",
   "metadata": {
    "editable": true,
    "slideshow": {
     "slide_type": ""
    },
    "tags": []
   },
   "source": [
    "We start withe the dual of `(25, 1)`"
   ]
  },
  {
   "cell_type": "code",
   "execution_count": 9,
   "id": "ba2135aa-787c-4317-93cf-9db051a6704f",
   "metadata": {
    "editable": true,
    "slideshow": {
     "slide_type": "fragment"
    },
    "tags": []
   },
   "outputs": [
    {
     "data": {
      "text/plain": [
       "D((25.0, 1.0))"
      ]
     },
     "execution_count": 9,
     "metadata": {},
     "output_type": "execute_result"
    }
   ],
   "source": [
    "x = 25\n",
    "x̂ = D((x, 1))"
   ]
  },
  {
   "cell_type": "markdown",
   "id": "9c5dcea3-57d3-411f-96c1-985e3f9f3447",
   "metadata": {
    "editable": true,
    "slideshow": {
     "slide_type": ""
    },
    "tags": []
   },
   "source": [
    "We know (because we're smart!) that the derivative of $\\sqrt{x}$ is $\\frac{1}{2\\sqrt{x}}$ => therefore the result that we expect is:"
   ]
  },
  {
   "cell_type": "code",
   "execution_count": 10,
   "id": "19a60b08-2da6-43f3-9405-fb9ed642a67b",
   "metadata": {
    "editable": true,
    "slideshow": {
     "slide_type": "fragment"
    },
    "tags": []
   },
   "outputs": [
    {
     "data": {
      "text/plain": [
       "(5.0, 0.1)"
      ]
     },
     "execution_count": 10,
     "metadata": {},
     "output_type": "execute_result"
    }
   ],
   "source": [
    "(√x, .5/√x)"
   ]
  },
  {
   "cell_type": "markdown",
   "id": "61d7ec9c-661d-4eb0-958e-b05992133f8e",
   "metadata": {
    "editable": true,
    "slideshow": {
     "slide_type": "subslide"
    },
    "tags": []
   },
   "source": [
    "Now let's pass the dual to the babylonian algorithm:"
   ]
  },
  {
   "cell_type": "code",
   "execution_count": 24,
   "id": "f0b88215-73b7-4293-8828-501b4cc29f4f",
   "metadata": {
    "editable": true,
    "slideshow": {
     "slide_type": "fragment"
    },
    "tags": []
   },
   "outputs": [
    {
     "data": {
      "text/plain": [
       "D((5.0, 0.1))"
      ]
     },
     "execution_count": 24,
     "metadata": {},
     "output_type": "execute_result"
    }
   ],
   "source": [
    "babylonian(x̂)"
   ]
  },
  {
   "cell_type": "markdown",
   "id": "bd035aa1-5a65-4d63-ba7f-d1a1ca006e90",
   "metadata": {
    "editable": true,
    "slideshow": {
     "slide_type": "fragment"
    },
    "tags": []
   },
   "source": [
    "Because Julia's addition, subtraction, multiplication, and division operators \"know\" what to do with the `D` data type, we automatically \"propagate\" the derivative as we perform the regular arithmatic."
   ]
  },
  {
   "cell_type": "markdown",
   "id": "99ecb6c6-0ded-4212-8620-35f5b1d1a0df",
   "metadata": {
    "editable": true,
    "slideshow": {
     "slide_type": "subslide"
    },
    "tags": []
   },
   "source": [
    "We can even confirm that the "
   ]
  },
  {
   "cell_type": "code",
   "execution_count": 27,
   "id": "2ecbaa23-e056-454a-b1f0-97537546910b",
   "metadata": {
    "editable": true,
    "slideshow": {
     "slide_type": "fragment"
    },
    "tags": []
   },
   "outputs": [
    {
     "name": "stdout",
     "output_type": "stream",
     "text": [
      "\u001b[90m;  @ In[2]:1 within `babylonian`\u001b[39m\n",
      "\u001b[95mdefine\u001b[39m \u001b[36mdouble\u001b[39m \u001b[93m@julia_babylonian_2358\u001b[39m\u001b[33m(\u001b[39m\u001b[36mi64\u001b[39m \u001b[95msignext\u001b[39m \u001b[0m%0\u001b[33m)\u001b[39m \u001b[0m#0 \u001b[33m{\u001b[39m\n",
      "\u001b[91mtop:\u001b[39m\n",
      " \u001b[93m@\"j_#babylonian#1_2360\"\u001b[39m\u001b[33m(\u001b[39m\u001b[36mi64\u001b[39m \u001b[95msignext\u001b[39m \u001b[33m10\u001b[39m\u001b[0m, \u001b[36mi64\u001b[39m \u001b[95msignext\u001b[39m \u001b[0m%0\u001b[33m)\u001b[39m\n",
      "  \u001b[96m\u001b[1mret\u001b[22m\u001b[39m \u001b[36mdouble\u001b[39m \u001b[0m%1\n",
      "\u001b[33m}\u001b[39m\n"
     ]
    }
   ],
   "source": [
    "@code_llvm babylonian(1)"
   ]
  },
  {
   "cell_type": "code",
   "execution_count": 26,
   "id": "be677077-fe7f-4932-a8ed-11315044e6b4",
   "metadata": {
    "editable": true,
    "slideshow": {
     "slide_type": "fragment"
    },
    "tags": []
   },
   "outputs": [
    {
     "name": "stdout",
     "output_type": "stream",
     "text": [
      "\u001b[90m;  @ In[2]:1 within `babylonian`\u001b[39m\n",
      "\u001b[95mdefine\u001b[39m \u001b[36mvoid\u001b[39m \u001b[93m@julia_babylonian_2355\u001b[39m\u001b[33m(\u001b[39m\u001b[33m[\u001b[39m\u001b[33m1\u001b[39m \u001b[0mx \u001b[33m[\u001b[39m\u001b[33m2\u001b[39m \u001b[0mx \u001b[36mdouble\u001b[39m\u001b[33m]\u001b[39m\u001b[33m]\u001b[39m\u001b[0m* \u001b[95mnoalias\u001b[39m \u001b[95mnocapture\u001b[39m \u001b[95mnoundef\u001b[39m \u001b[95mnonnull\u001b[39m \u001b[95msret\u001b[39m\u001b[33m(\u001b[39m\u001b[33m[\u001b[39m\u001b[33m1\u001b[39m \u001b[0mx \u001b[33m[\u001b[39m\u001b[33m2\u001b[39m \u001b[0mx \u001b[36mdouble\u001b[39m\u001b[33m]\u001b[39m\u001b[33m]\u001b[39m\u001b[33m)\u001b[39m \u001b[95malign\u001b[39m \u001b[33m8\u001b[39m \u001b[95mdereferenceable\u001b[39m\u001b[33m(\u001b[39m\u001b[33m16\u001b[39m\u001b[33m)\u001b[39m \u001b[0m%0\u001b[0m, \u001b[33m[\u001b[39m\u001b[33m1\u001b[39m \u001b[0mx \u001b[33m[\u001b[39m\u001b[33m2\u001b[39m \u001b[0mx \u001b[36mdouble\u001b[39m\u001b[33m]\u001b[39m\u001b[33m]\u001b[39m\u001b[0m* \u001b[95mnocapture\u001b[39m \u001b[95mnoundef\u001b[39m \u001b[95mnonnull\u001b[39m \u001b[95mreadonly\u001b[39m \u001b[95malign\u001b[39m \u001b[33m8\u001b[39m \u001b[95mdereferenceable\u001b[39m\u001b[33m(\u001b[39m\u001b[33m16\u001b[39m\u001b[33m)\u001b[39m \u001b[0m%1\u001b[33m)\u001b[39m \u001b[0m#0 \u001b[33m{\u001b[39m\n",
      "\u001b[91mtop:\u001b[39m\n",
      "  \u001b[0m%2 \u001b[0m= \u001b[96m\u001b[1malloca\u001b[22m\u001b[39m \u001b[33m[\u001b[39m\u001b[33m1\u001b[39m \u001b[0mx \u001b[33m[\u001b[39m\u001b[33m2\u001b[39m \u001b[0mx \u001b[36mdouble\u001b[39m\u001b[33m]\u001b[39m\u001b[33m]\u001b[39m\u001b[0m, \u001b[95malign\u001b[39m \u001b[33m8\u001b[39m\n",
      "  \u001b[96m\u001b[1mcall\u001b[22m\u001b[39m \u001b[36mvoid\u001b[39m \u001b[93m@\"j_#babylonian#1_2357\"\u001b[39m\u001b[33m(\u001b[39m\u001b[33m[\u001b[39m\u001b[33m1\u001b[39m \u001b[0mx \u001b[33m[\u001b[39m\u001b[33m2\u001b[39m \u001b[0mx \u001b[36mdouble\u001b[39m\u001b[33m]\u001b[39m\u001b[33m]\u001b[39m\u001b[0m* \u001b[95mnoalias\u001b[39m \u001b[95mnocapture\u001b[39m \u001b[95mnoundef\u001b[39m \u001b[95mnonnull\u001b[39m \u001b[95msret\u001b[39m\u001b[33m(\u001b[39m\u001b[33m[\u001b[39m\u001b[33m1\u001b[39m \u001b[0mx \u001b[33m[\u001b[39m\u001b[33m2\u001b[39m \u001b[0mx \u001b[36mdouble\u001b[39m\u001b[33m]\u001b[39m\u001b[33m]\u001b[39m\u001b[33m)\u001b[39m \u001b[0m%2\u001b[0m, \u001b[36mi64\u001b[39m \u001b[95msignext\u001b[39m \u001b[33m10\u001b[39m\u001b[0m, \u001b[33m[\u001b[39m\u001b[33m1\u001b[39m \u001b[0mx \u001b[33m[\u001b[39m\u001b[33m2\u001b[39m \u001b[0mx \u001b[36mdouble\u001b[39m\u001b[33m]\u001b[39m\u001b[33m]\u001b[39m\u001b[0m* \u001b[95mnocapture\u001b[39m \u001b[95mnonnull\u001b[39m \u001b[95mreadonly\u001b[39m \u001b[0m%1\u001b[33m)\u001b[39m\n",
      "  \u001b[0m%3 \u001b[0m= \u001b[96m\u001b[1mbitcast\u001b[22m\u001b[39m \u001b[33m[\u001b[39m\u001b[33m1\u001b[39m \u001b[0mx \u001b[33m[\u001b[39m\u001b[33m2\u001b[39m \u001b[0mx \u001b[36mdouble\u001b[39m\u001b[33m]\u001b[39m\u001b[33m]\u001b[39m\u001b[0m* \u001b[0m%0 \u001b[95mto\u001b[39m \u001b[36mi8\u001b[39m\u001b[0m*\n",
      "  \u001b[0m%4 \u001b[0m= \u001b[96m\u001b[1mbitcast\u001b[22m\u001b[39m \u001b[33m[\u001b[39m\u001b[33m1\u001b[39m \u001b[0mx \u001b[33m[\u001b[39m\u001b[33m2\u001b[39m \u001b[0mx \u001b[36mdouble\u001b[39m\u001b[33m]\u001b[39m\u001b[33m]\u001b[39m\u001b[0m* \u001b[0m%2 \u001b[95mto\u001b[39m \u001b[36mi8\u001b[39m\u001b[0m*\n",
      "  \u001b[96m\u001b[1mcall\u001b[22m\u001b[39m \u001b[36mvoid\u001b[39m \u001b[93m@llvm.memcpy.p0i8.p0i8.i64\u001b[39m\u001b[33m(\u001b[39m\u001b[36mi8\u001b[39m\u001b[0m* \u001b[95mnoundef\u001b[39m \u001b[95mnonnull\u001b[39m \u001b[95malign\u001b[39m \u001b[33m8\u001b[39m \u001b[95mdereferenceable\u001b[39m\u001b[33m(\u001b[39m\u001b[33m16\u001b[39m\u001b[33m)\u001b[39m \u001b[0m%3\u001b[0m, \u001b[36mi8\u001b[39m\u001b[0m* \u001b[95mnoundef\u001b[39m \u001b[95mnonnull\u001b[39m \u001b[95malign\u001b[39m \u001b[33m8\u001b[39m \u001b[95mdereferenceable\u001b[39m\u001b[33m(\u001b[39m\u001b[33m16\u001b[39m\u001b[33m)\u001b[39m \u001b[0m%4\u001b[0m, \u001b[36mi64\u001b[39m \u001b[33m16\u001b[39m\u001b[0m, \u001b[36mi1\u001b[39m \u001b[95mfalse\u001b[39m\u001b[33m)\u001b[39m\n",
      "  \u001b[96m\u001b[1mret\u001b[22m\u001b[39m \u001b[36mvoid\u001b[39m\n",
      "\u001b[33m}\u001b[39m\n"
     ]
    }
   ],
   "source": [
    "@code_llvm babylonian(x̂)"
   ]
  },
  {
   "cell_type": "code",
   "execution_count": null,
   "id": "47bab921-cd3f-4365-b790-3997760b7c92",
   "metadata": {
    "editable": true,
    "slideshow": {
     "slide_type": ""
    },
    "tags": []
   },
   "outputs": [],
   "source": []
  }
 ],
 "metadata": {
  "kernelspec": {
   "display_name": "Julia 1.10.3",
   "language": "julia",
   "name": "julia-1.10"
  },
  "language_info": {
   "file_extension": ".jl",
   "mimetype": "application/julia",
   "name": "julia",
   "version": "1.10.3"
  }
 },
 "nbformat": 4,
 "nbformat_minor": 5
}
